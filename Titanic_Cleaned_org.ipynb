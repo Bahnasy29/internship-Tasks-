{
 "cells": [
  {
   "cell_type": "markdown",
   "id": "f974b863",
   "metadata": {},
   "source": [
    "# Titanic Data Cleaning and Exploration\n",
    "This notebook focuses on cleaning and exploring the Titanic dataset.\n",
    "We maintain the original dataset in `df_org` to prevent accidental overwriting during preprocessing.\n",
    "Modeling is not included in this version."
   ]
  },
  {
   "cell_type": "code",
   "execution_count": 111,
   "id": "0d29de2c-5baf-4226-932b-539924c485ee",
   "metadata": {},
   "outputs": [],
   "source": [
    "import pandas as pd\n",
    "import numpy as np\n",
    "import matplotlib.pyplot as plt\n",
    "import seaborn as sns"
   ]
  },
  {
   "cell_type": "code",
   "execution_count": 3,
   "id": "f91618aa-02ca-4dff-b05a-fc7ffb054188",
   "metadata": {},
   "outputs": [
    {
     "data": {
      "text/html": [
       "<div>\n",
       "<style scoped>\n",
       "    .dataframe tbody tr th:only-of-type {\n",
       "        vertical-align: middle;\n",
       "    }\n",
       "\n",
       "    .dataframe tbody tr th {\n",
       "        vertical-align: top;\n",
       "    }\n",
       "\n",
       "    .dataframe thead th {\n",
       "        text-align: right;\n",
       "    }\n",
       "</style>\n",
       "<table border=\"1\" class=\"dataframe\">\n",
       "  <thead>\n",
       "    <tr style=\"text-align: right;\">\n",
       "      <th></th>\n",
       "      <th>PassengerId</th>\n",
       "      <th>Survived</th>\n",
       "      <th>Pclass</th>\n",
       "      <th>Name</th>\n",
       "      <th>Sex</th>\n",
       "      <th>Age</th>\n",
       "      <th>SibSp</th>\n",
       "      <th>Parch</th>\n",
       "      <th>Ticket</th>\n",
       "      <th>Fare</th>\n",
       "      <th>...</th>\n",
       "      <th>Embarked</th>\n",
       "      <th>WikiId</th>\n",
       "      <th>Name_wiki</th>\n",
       "      <th>Age_wiki</th>\n",
       "      <th>Hometown</th>\n",
       "      <th>Boarded</th>\n",
       "      <th>Destination</th>\n",
       "      <th>Lifeboat</th>\n",
       "      <th>Body</th>\n",
       "      <th>Class</th>\n",
       "    </tr>\n",
       "  </thead>\n",
       "  <tbody>\n",
       "    <tr>\n",
       "      <th>0</th>\n",
       "      <td>1</td>\n",
       "      <td>0.0</td>\n",
       "      <td>3</td>\n",
       "      <td>Braund, Mr. Owen Harris</td>\n",
       "      <td>male</td>\n",
       "      <td>22.0</td>\n",
       "      <td>1</td>\n",
       "      <td>0</td>\n",
       "      <td>A/5 21171</td>\n",
       "      <td>7.2500</td>\n",
       "      <td>...</td>\n",
       "      <td>S</td>\n",
       "      <td>691.0</td>\n",
       "      <td>Braund, Mr. Owen Harris</td>\n",
       "      <td>22.0</td>\n",
       "      <td>Bridgerule, Devon, England</td>\n",
       "      <td>Southampton</td>\n",
       "      <td>Qu'Appelle Valley, Saskatchewan, Canada</td>\n",
       "      <td>NaN</td>\n",
       "      <td>NaN</td>\n",
       "      <td>3.0</td>\n",
       "    </tr>\n",
       "    <tr>\n",
       "      <th>1</th>\n",
       "      <td>2</td>\n",
       "      <td>1.0</td>\n",
       "      <td>1</td>\n",
       "      <td>Cumings, Mrs. John Bradley (Florence Briggs Th...</td>\n",
       "      <td>female</td>\n",
       "      <td>38.0</td>\n",
       "      <td>1</td>\n",
       "      <td>0</td>\n",
       "      <td>PC 17599</td>\n",
       "      <td>71.2833</td>\n",
       "      <td>...</td>\n",
       "      <td>C</td>\n",
       "      <td>90.0</td>\n",
       "      <td>Cumings, Mrs. Florence Briggs (née Thayer)</td>\n",
       "      <td>35.0</td>\n",
       "      <td>New York, New York, US</td>\n",
       "      <td>Cherbourg</td>\n",
       "      <td>New York, New York, US</td>\n",
       "      <td>4</td>\n",
       "      <td>NaN</td>\n",
       "      <td>1.0</td>\n",
       "    </tr>\n",
       "    <tr>\n",
       "      <th>2</th>\n",
       "      <td>3</td>\n",
       "      <td>1.0</td>\n",
       "      <td>3</td>\n",
       "      <td>Heikkinen, Miss. Laina</td>\n",
       "      <td>female</td>\n",
       "      <td>26.0</td>\n",
       "      <td>0</td>\n",
       "      <td>0</td>\n",
       "      <td>STON/O2. 3101282</td>\n",
       "      <td>7.9250</td>\n",
       "      <td>...</td>\n",
       "      <td>S</td>\n",
       "      <td>865.0</td>\n",
       "      <td>Heikkinen, Miss Laina</td>\n",
       "      <td>26.0</td>\n",
       "      <td>Jyväskylä, Finland</td>\n",
       "      <td>Southampton</td>\n",
       "      <td>New York City</td>\n",
       "      <td>14?</td>\n",
       "      <td>NaN</td>\n",
       "      <td>3.0</td>\n",
       "    </tr>\n",
       "    <tr>\n",
       "      <th>3</th>\n",
       "      <td>4</td>\n",
       "      <td>1.0</td>\n",
       "      <td>1</td>\n",
       "      <td>Futrelle, Mrs. Jacques Heath (Lily May Peel)</td>\n",
       "      <td>female</td>\n",
       "      <td>35.0</td>\n",
       "      <td>1</td>\n",
       "      <td>0</td>\n",
       "      <td>113803</td>\n",
       "      <td>53.1000</td>\n",
       "      <td>...</td>\n",
       "      <td>S</td>\n",
       "      <td>127.0</td>\n",
       "      <td>Futrelle, Mrs. Lily May (née Peel)</td>\n",
       "      <td>35.0</td>\n",
       "      <td>Scituate, Massachusetts, US</td>\n",
       "      <td>Southampton</td>\n",
       "      <td>Scituate, Massachusetts, US</td>\n",
       "      <td>D</td>\n",
       "      <td>NaN</td>\n",
       "      <td>1.0</td>\n",
       "    </tr>\n",
       "    <tr>\n",
       "      <th>4</th>\n",
       "      <td>5</td>\n",
       "      <td>0.0</td>\n",
       "      <td>3</td>\n",
       "      <td>Allen, Mr. William Henry</td>\n",
       "      <td>male</td>\n",
       "      <td>35.0</td>\n",
       "      <td>0</td>\n",
       "      <td>0</td>\n",
       "      <td>373450</td>\n",
       "      <td>8.0500</td>\n",
       "      <td>...</td>\n",
       "      <td>S</td>\n",
       "      <td>627.0</td>\n",
       "      <td>Allen, Mr. William Henry</td>\n",
       "      <td>35.0</td>\n",
       "      <td>Birmingham, West Midlands, England</td>\n",
       "      <td>Southampton</td>\n",
       "      <td>New York City</td>\n",
       "      <td>NaN</td>\n",
       "      <td>NaN</td>\n",
       "      <td>3.0</td>\n",
       "    </tr>\n",
       "    <tr>\n",
       "      <th>...</th>\n",
       "      <td>...</td>\n",
       "      <td>...</td>\n",
       "      <td>...</td>\n",
       "      <td>...</td>\n",
       "      <td>...</td>\n",
       "      <td>...</td>\n",
       "      <td>...</td>\n",
       "      <td>...</td>\n",
       "      <td>...</td>\n",
       "      <td>...</td>\n",
       "      <td>...</td>\n",
       "      <td>...</td>\n",
       "      <td>...</td>\n",
       "      <td>...</td>\n",
       "      <td>...</td>\n",
       "      <td>...</td>\n",
       "      <td>...</td>\n",
       "      <td>...</td>\n",
       "      <td>...</td>\n",
       "      <td>...</td>\n",
       "      <td>...</td>\n",
       "    </tr>\n",
       "    <tr>\n",
       "      <th>886</th>\n",
       "      <td>887</td>\n",
       "      <td>0.0</td>\n",
       "      <td>2</td>\n",
       "      <td>Montvila, Rev. Juozas</td>\n",
       "      <td>male</td>\n",
       "      <td>27.0</td>\n",
       "      <td>0</td>\n",
       "      <td>0</td>\n",
       "      <td>211536</td>\n",
       "      <td>13.0000</td>\n",
       "      <td>...</td>\n",
       "      <td>S</td>\n",
       "      <td>514.0</td>\n",
       "      <td>Montvila, Father Juozas</td>\n",
       "      <td>27.0</td>\n",
       "      <td>Gudinė, Lithuania [76]</td>\n",
       "      <td>Southampton</td>\n",
       "      <td>Worcester, Massachusetts, US</td>\n",
       "      <td>NaN</td>\n",
       "      <td>NaN</td>\n",
       "      <td>2.0</td>\n",
       "    </tr>\n",
       "    <tr>\n",
       "      <th>887</th>\n",
       "      <td>888</td>\n",
       "      <td>1.0</td>\n",
       "      <td>1</td>\n",
       "      <td>Graham, Miss. Margaret Edith</td>\n",
       "      <td>female</td>\n",
       "      <td>19.0</td>\n",
       "      <td>0</td>\n",
       "      <td>0</td>\n",
       "      <td>112053</td>\n",
       "      <td>30.0000</td>\n",
       "      <td>...</td>\n",
       "      <td>S</td>\n",
       "      <td>137.0</td>\n",
       "      <td>Graham, Miss Margaret Edith</td>\n",
       "      <td>19.0</td>\n",
       "      <td>Greenwich, Connecticut, US</td>\n",
       "      <td>Southampton</td>\n",
       "      <td>Greenwich, Connecticut, US</td>\n",
       "      <td>3</td>\n",
       "      <td>NaN</td>\n",
       "      <td>1.0</td>\n",
       "    </tr>\n",
       "    <tr>\n",
       "      <th>888</th>\n",
       "      <td>889</td>\n",
       "      <td>0.0</td>\n",
       "      <td>3</td>\n",
       "      <td>Johnston, Miss. Catherine Helen \"Carrie\"</td>\n",
       "      <td>female</td>\n",
       "      <td>NaN</td>\n",
       "      <td>1</td>\n",
       "      <td>2</td>\n",
       "      <td>W./C. 6607</td>\n",
       "      <td>23.4500</td>\n",
       "      <td>...</td>\n",
       "      <td>S</td>\n",
       "      <td>910.0</td>\n",
       "      <td>Johnston, Miss Catherine Nellie</td>\n",
       "      <td>7.0</td>\n",
       "      <td>Thornton Heath, London, England</td>\n",
       "      <td>Southampton</td>\n",
       "      <td>New London, Connecticut, US</td>\n",
       "      <td>NaN</td>\n",
       "      <td>NaN</td>\n",
       "      <td>3.0</td>\n",
       "    </tr>\n",
       "    <tr>\n",
       "      <th>889</th>\n",
       "      <td>890</td>\n",
       "      <td>1.0</td>\n",
       "      <td>1</td>\n",
       "      <td>Behr, Mr. Karl Howell</td>\n",
       "      <td>male</td>\n",
       "      <td>26.0</td>\n",
       "      <td>0</td>\n",
       "      <td>0</td>\n",
       "      <td>111369</td>\n",
       "      <td>30.0000</td>\n",
       "      <td>...</td>\n",
       "      <td>C</td>\n",
       "      <td>28.0</td>\n",
       "      <td>Behr, Mr. Karl Howell</td>\n",
       "      <td>26.0</td>\n",
       "      <td>New York, New York, US</td>\n",
       "      <td>Cherbourg</td>\n",
       "      <td>New York, New York, US</td>\n",
       "      <td>5</td>\n",
       "      <td>NaN</td>\n",
       "      <td>1.0</td>\n",
       "    </tr>\n",
       "    <tr>\n",
       "      <th>890</th>\n",
       "      <td>891</td>\n",
       "      <td>0.0</td>\n",
       "      <td>3</td>\n",
       "      <td>Dooley, Mr. Patrick</td>\n",
       "      <td>male</td>\n",
       "      <td>32.0</td>\n",
       "      <td>0</td>\n",
       "      <td>0</td>\n",
       "      <td>370376</td>\n",
       "      <td>7.7500</td>\n",
       "      <td>...</td>\n",
       "      <td>Q</td>\n",
       "      <td>783.0</td>\n",
       "      <td>Dooley, Mr. Patrick J.</td>\n",
       "      <td>43.0</td>\n",
       "      <td>Patrickswell, Limerick, Ireland</td>\n",
       "      <td>Queenstown</td>\n",
       "      <td>New York City</td>\n",
       "      <td>NaN</td>\n",
       "      <td>NaN</td>\n",
       "      <td>3.0</td>\n",
       "    </tr>\n",
       "  </tbody>\n",
       "</table>\n",
       "<p>891 rows × 21 columns</p>\n",
       "</div>"
      ],
      "text/plain": [
       "     PassengerId  Survived  Pclass  \\\n",
       "0              1       0.0       3   \n",
       "1              2       1.0       1   \n",
       "2              3       1.0       3   \n",
       "3              4       1.0       1   \n",
       "4              5       0.0       3   \n",
       "..           ...       ...     ...   \n",
       "886          887       0.0       2   \n",
       "887          888       1.0       1   \n",
       "888          889       0.0       3   \n",
       "889          890       1.0       1   \n",
       "890          891       0.0       3   \n",
       "\n",
       "                                                  Name     Sex   Age  SibSp  \\\n",
       "0                              Braund, Mr. Owen Harris    male  22.0      1   \n",
       "1    Cumings, Mrs. John Bradley (Florence Briggs Th...  female  38.0      1   \n",
       "2                               Heikkinen, Miss. Laina  female  26.0      0   \n",
       "3         Futrelle, Mrs. Jacques Heath (Lily May Peel)  female  35.0      1   \n",
       "4                             Allen, Mr. William Henry    male  35.0      0   \n",
       "..                                                 ...     ...   ...    ...   \n",
       "886                              Montvila, Rev. Juozas    male  27.0      0   \n",
       "887                       Graham, Miss. Margaret Edith  female  19.0      0   \n",
       "888           Johnston, Miss. Catherine Helen \"Carrie\"  female   NaN      1   \n",
       "889                              Behr, Mr. Karl Howell    male  26.0      0   \n",
       "890                                Dooley, Mr. Patrick    male  32.0      0   \n",
       "\n",
       "     Parch            Ticket     Fare  ... Embarked WikiId  \\\n",
       "0        0         A/5 21171   7.2500  ...        S  691.0   \n",
       "1        0          PC 17599  71.2833  ...        C   90.0   \n",
       "2        0  STON/O2. 3101282   7.9250  ...        S  865.0   \n",
       "3        0            113803  53.1000  ...        S  127.0   \n",
       "4        0            373450   8.0500  ...        S  627.0   \n",
       "..     ...               ...      ...  ...      ...    ...   \n",
       "886      0            211536  13.0000  ...        S  514.0   \n",
       "887      0            112053  30.0000  ...        S  137.0   \n",
       "888      2        W./C. 6607  23.4500  ...        S  910.0   \n",
       "889      0            111369  30.0000  ...        C   28.0   \n",
       "890      0            370376   7.7500  ...        Q  783.0   \n",
       "\n",
       "                                      Name_wiki Age_wiki  \\\n",
       "0                       Braund, Mr. Owen Harris     22.0   \n",
       "1    Cumings, Mrs. Florence Briggs (née Thayer)     35.0   \n",
       "2                         Heikkinen, Miss Laina     26.0   \n",
       "3            Futrelle, Mrs. Lily May (née Peel)     35.0   \n",
       "4                      Allen, Mr. William Henry     35.0   \n",
       "..                                          ...      ...   \n",
       "886                     Montvila, Father Juozas     27.0   \n",
       "887                 Graham, Miss Margaret Edith     19.0   \n",
       "888             Johnston, Miss Catherine Nellie      7.0   \n",
       "889                       Behr, Mr. Karl Howell     26.0   \n",
       "890                      Dooley, Mr. Patrick J.     43.0   \n",
       "\n",
       "                               Hometown      Boarded  \\\n",
       "0            Bridgerule, Devon, England  Southampton   \n",
       "1                New York, New York, US    Cherbourg   \n",
       "2                    Jyväskylä, Finland  Southampton   \n",
       "3           Scituate, Massachusetts, US  Southampton   \n",
       "4    Birmingham, West Midlands, England  Southampton   \n",
       "..                                  ...          ...   \n",
       "886              Gudinė, Lithuania [76]  Southampton   \n",
       "887          Greenwich, Connecticut, US  Southampton   \n",
       "888     Thornton Heath, London, England  Southampton   \n",
       "889              New York, New York, US    Cherbourg   \n",
       "890     Patrickswell, Limerick, Ireland   Queenstown   \n",
       "\n",
       "                                 Destination Lifeboat Body Class  \n",
       "0    Qu'Appelle Valley, Saskatchewan, Canada      NaN  NaN   3.0  \n",
       "1                     New York, New York, US        4  NaN   1.0  \n",
       "2                              New York City      14?  NaN   3.0  \n",
       "3                Scituate, Massachusetts, US        D  NaN   1.0  \n",
       "4                              New York City      NaN  NaN   3.0  \n",
       "..                                       ...      ...  ...   ...  \n",
       "886             Worcester, Massachusetts, US      NaN  NaN   2.0  \n",
       "887               Greenwich, Connecticut, US        3  NaN   1.0  \n",
       "888              New London, Connecticut, US      NaN  NaN   3.0  \n",
       "889                   New York, New York, US        5  NaN   1.0  \n",
       "890                            New York City      NaN  NaN   3.0  \n",
       "\n",
       "[891 rows x 21 columns]"
      ]
     },
     "execution_count": 3,
     "metadata": {},
     "output_type": "execute_result"
    }
   ],
   "source": [
    "df=pd.read_csv(\"train.csv\")\n",
    "df"
   ]
  },
  {
   "cell_type": "markdown",
   "id": "0d415e04",
   "metadata": {},
   "source": [
    "## Exploaring the data"
   ]
  },
  {
   "cell_type": "code",
   "execution_count": 5,
   "id": "c43ab141-a019-41ca-b233-28243f790adf",
   "metadata": {},
   "outputs": [
    {
     "name": "stdout",
     "output_type": "stream",
     "text": [
      "<class 'pandas.core.frame.DataFrame'>\n",
      "RangeIndex: 891 entries, 0 to 890\n",
      "Data columns (total 21 columns):\n",
      " #   Column       Non-Null Count  Dtype  \n",
      "---  ------       --------------  -----  \n",
      " 0   PassengerId  891 non-null    int64  \n",
      " 1   Survived     891 non-null    float64\n",
      " 2   Pclass       891 non-null    int64  \n",
      " 3   Name         891 non-null    object \n",
      " 4   Sex          891 non-null    object \n",
      " 5   Age          714 non-null    float64\n",
      " 6   SibSp        891 non-null    int64  \n",
      " 7   Parch        891 non-null    int64  \n",
      " 8   Ticket       891 non-null    object \n",
      " 9   Fare         891 non-null    float64\n",
      " 10  Cabin        204 non-null    object \n",
      " 11  Embarked     889 non-null    object \n",
      " 12  WikiId       889 non-null    float64\n",
      " 13  Name_wiki    889 non-null    object \n",
      " 14  Age_wiki     887 non-null    float64\n",
      " 15  Hometown     889 non-null    object \n",
      " 16  Boarded      889 non-null    object \n",
      " 17  Destination  889 non-null    object \n",
      " 18  Lifeboat     345 non-null    object \n",
      " 19  Body         87 non-null     object \n",
      " 20  Class        889 non-null    float64\n",
      "dtypes: float64(6), int64(4), object(11)\n",
      "memory usage: 146.3+ KB\n"
     ]
    }
   ],
   "source": [
    "df.info() #mis types Age ,Survived, class,Age_wiki #life boat col needs to be cleaned got some characters like ?./"
   ]
  },
  {
   "cell_type": "code",
   "execution_count": 6,
   "id": "bb00298f-6125-4d83-b40b-e099c45356bd",
   "metadata": {},
   "outputs": [
    {
     "data": {
      "text/plain": [
       "0"
      ]
     },
     "execution_count": 6,
     "metadata": {},
     "output_type": "execute_result"
    }
   ],
   "source": [
    "df.duplicated().sum() #checking for duplicates"
   ]
  },
  {
   "cell_type": "code",
   "execution_count": 7,
   "id": "28722650-d4e4-42ae-96ff-48296861a1cf",
   "metadata": {},
   "outputs": [
    {
     "data": {
      "text/plain": [
       "PassengerId      0\n",
       "Survived         0\n",
       "Pclass           0\n",
       "Name             0\n",
       "Sex              0\n",
       "Age            177\n",
       "SibSp            0\n",
       "Parch            0\n",
       "Ticket           0\n",
       "Fare             0\n",
       "Cabin          687\n",
       "Embarked         2\n",
       "WikiId           2\n",
       "Name_wiki        2\n",
       "Age_wiki         4\n",
       "Hometown         2\n",
       "Boarded          2\n",
       "Destination      2\n",
       "Lifeboat       546\n",
       "Body           804\n",
       "Class            2\n",
       "dtype: int64"
      ]
     },
     "execution_count": 7,
     "metadata": {},
     "output_type": "execute_result"
    }
   ],
   "source": [
    "df.isnull().sum() #total of the missing in each col to make it easy to see "
   ]
  },
  {
   "cell_type": "code",
   "execution_count": 8,
   "id": "bc7c48bd-3e29-47e9-b3a7-8fe713aac718",
   "metadata": {},
   "outputs": [
    {
     "data": {
      "text/html": [
       "<div>\n",
       "<style scoped>\n",
       "    .dataframe tbody tr th:only-of-type {\n",
       "        vertical-align: middle;\n",
       "    }\n",
       "\n",
       "    .dataframe tbody tr th {\n",
       "        vertical-align: top;\n",
       "    }\n",
       "\n",
       "    .dataframe thead th {\n",
       "        text-align: right;\n",
       "    }\n",
       "</style>\n",
       "<table border=\"1\" class=\"dataframe\">\n",
       "  <thead>\n",
       "    <tr style=\"text-align: right;\">\n",
       "      <th></th>\n",
       "      <th>PassengerId</th>\n",
       "      <th>Survived</th>\n",
       "      <th>Pclass</th>\n",
       "      <th>Name</th>\n",
       "      <th>Sex</th>\n",
       "      <th>Age</th>\n",
       "      <th>SibSp</th>\n",
       "      <th>Parch</th>\n",
       "      <th>Ticket</th>\n",
       "      <th>Fare</th>\n",
       "      <th>...</th>\n",
       "      <th>Embarked</th>\n",
       "      <th>WikiId</th>\n",
       "      <th>Name_wiki</th>\n",
       "      <th>Age_wiki</th>\n",
       "      <th>Hometown</th>\n",
       "      <th>Boarded</th>\n",
       "      <th>Destination</th>\n",
       "      <th>Lifeboat</th>\n",
       "      <th>Body</th>\n",
       "      <th>Class</th>\n",
       "    </tr>\n",
       "  </thead>\n",
       "  <tbody>\n",
       "    <tr>\n",
       "      <th>0</th>\n",
       "      <td>1</td>\n",
       "      <td>0</td>\n",
       "      <td>3</td>\n",
       "      <td>Braund, Mr. Owen Harris</td>\n",
       "      <td>male</td>\n",
       "      <td>22.0</td>\n",
       "      <td>1</td>\n",
       "      <td>0</td>\n",
       "      <td>A/5 21171</td>\n",
       "      <td>7.2500</td>\n",
       "      <td>...</td>\n",
       "      <td>S</td>\n",
       "      <td>691.0</td>\n",
       "      <td>Braund, Mr. Owen Harris</td>\n",
       "      <td>22.0</td>\n",
       "      <td>Bridgerule, Devon, England</td>\n",
       "      <td>Southampton</td>\n",
       "      <td>Qu'Appelle Valley, Saskatchewan, Canada</td>\n",
       "      <td>NaN</td>\n",
       "      <td>NaN</td>\n",
       "      <td>3.0</td>\n",
       "    </tr>\n",
       "    <tr>\n",
       "      <th>1</th>\n",
       "      <td>2</td>\n",
       "      <td>1</td>\n",
       "      <td>1</td>\n",
       "      <td>Cumings, Mrs. John Bradley (Florence Briggs Th...</td>\n",
       "      <td>female</td>\n",
       "      <td>38.0</td>\n",
       "      <td>1</td>\n",
       "      <td>0</td>\n",
       "      <td>PC 17599</td>\n",
       "      <td>71.2833</td>\n",
       "      <td>...</td>\n",
       "      <td>C</td>\n",
       "      <td>90.0</td>\n",
       "      <td>Cumings, Mrs. Florence Briggs (née Thayer)</td>\n",
       "      <td>35.0</td>\n",
       "      <td>New York, New York, US</td>\n",
       "      <td>Cherbourg</td>\n",
       "      <td>New York, New York, US</td>\n",
       "      <td>4</td>\n",
       "      <td>NaN</td>\n",
       "      <td>1.0</td>\n",
       "    </tr>\n",
       "    <tr>\n",
       "      <th>2</th>\n",
       "      <td>3</td>\n",
       "      <td>1</td>\n",
       "      <td>3</td>\n",
       "      <td>Heikkinen, Miss. Laina</td>\n",
       "      <td>female</td>\n",
       "      <td>26.0</td>\n",
       "      <td>0</td>\n",
       "      <td>0</td>\n",
       "      <td>STON/O2. 3101282</td>\n",
       "      <td>7.9250</td>\n",
       "      <td>...</td>\n",
       "      <td>S</td>\n",
       "      <td>865.0</td>\n",
       "      <td>Heikkinen, Miss Laina</td>\n",
       "      <td>26.0</td>\n",
       "      <td>Jyväskylä, Finland</td>\n",
       "      <td>Southampton</td>\n",
       "      <td>New York City</td>\n",
       "      <td>14?</td>\n",
       "      <td>NaN</td>\n",
       "      <td>3.0</td>\n",
       "    </tr>\n",
       "    <tr>\n",
       "      <th>3</th>\n",
       "      <td>4</td>\n",
       "      <td>1</td>\n",
       "      <td>1</td>\n",
       "      <td>Futrelle, Mrs. Jacques Heath (Lily May Peel)</td>\n",
       "      <td>female</td>\n",
       "      <td>35.0</td>\n",
       "      <td>1</td>\n",
       "      <td>0</td>\n",
       "      <td>113803</td>\n",
       "      <td>53.1000</td>\n",
       "      <td>...</td>\n",
       "      <td>S</td>\n",
       "      <td>127.0</td>\n",
       "      <td>Futrelle, Mrs. Lily May (née Peel)</td>\n",
       "      <td>35.0</td>\n",
       "      <td>Scituate, Massachusetts, US</td>\n",
       "      <td>Southampton</td>\n",
       "      <td>Scituate, Massachusetts, US</td>\n",
       "      <td>D</td>\n",
       "      <td>NaN</td>\n",
       "      <td>1.0</td>\n",
       "    </tr>\n",
       "    <tr>\n",
       "      <th>4</th>\n",
       "      <td>5</td>\n",
       "      <td>0</td>\n",
       "      <td>3</td>\n",
       "      <td>Allen, Mr. William Henry</td>\n",
       "      <td>male</td>\n",
       "      <td>35.0</td>\n",
       "      <td>0</td>\n",
       "      <td>0</td>\n",
       "      <td>373450</td>\n",
       "      <td>8.0500</td>\n",
       "      <td>...</td>\n",
       "      <td>S</td>\n",
       "      <td>627.0</td>\n",
       "      <td>Allen, Mr. William Henry</td>\n",
       "      <td>35.0</td>\n",
       "      <td>Birmingham, West Midlands, England</td>\n",
       "      <td>Southampton</td>\n",
       "      <td>New York City</td>\n",
       "      <td>NaN</td>\n",
       "      <td>NaN</td>\n",
       "      <td>3.0</td>\n",
       "    </tr>\n",
       "    <tr>\n",
       "      <th>...</th>\n",
       "      <td>...</td>\n",
       "      <td>...</td>\n",
       "      <td>...</td>\n",
       "      <td>...</td>\n",
       "      <td>...</td>\n",
       "      <td>...</td>\n",
       "      <td>...</td>\n",
       "      <td>...</td>\n",
       "      <td>...</td>\n",
       "      <td>...</td>\n",
       "      <td>...</td>\n",
       "      <td>...</td>\n",
       "      <td>...</td>\n",
       "      <td>...</td>\n",
       "      <td>...</td>\n",
       "      <td>...</td>\n",
       "      <td>...</td>\n",
       "      <td>...</td>\n",
       "      <td>...</td>\n",
       "      <td>...</td>\n",
       "      <td>...</td>\n",
       "    </tr>\n",
       "    <tr>\n",
       "      <th>886</th>\n",
       "      <td>887</td>\n",
       "      <td>0</td>\n",
       "      <td>2</td>\n",
       "      <td>Montvila, Rev. Juozas</td>\n",
       "      <td>male</td>\n",
       "      <td>27.0</td>\n",
       "      <td>0</td>\n",
       "      <td>0</td>\n",
       "      <td>211536</td>\n",
       "      <td>13.0000</td>\n",
       "      <td>...</td>\n",
       "      <td>S</td>\n",
       "      <td>514.0</td>\n",
       "      <td>Montvila, Father Juozas</td>\n",
       "      <td>27.0</td>\n",
       "      <td>Gudinė, Lithuania [76]</td>\n",
       "      <td>Southampton</td>\n",
       "      <td>Worcester, Massachusetts, US</td>\n",
       "      <td>NaN</td>\n",
       "      <td>NaN</td>\n",
       "      <td>2.0</td>\n",
       "    </tr>\n",
       "    <tr>\n",
       "      <th>887</th>\n",
       "      <td>888</td>\n",
       "      <td>1</td>\n",
       "      <td>1</td>\n",
       "      <td>Graham, Miss. Margaret Edith</td>\n",
       "      <td>female</td>\n",
       "      <td>19.0</td>\n",
       "      <td>0</td>\n",
       "      <td>0</td>\n",
       "      <td>112053</td>\n",
       "      <td>30.0000</td>\n",
       "      <td>...</td>\n",
       "      <td>S</td>\n",
       "      <td>137.0</td>\n",
       "      <td>Graham, Miss Margaret Edith</td>\n",
       "      <td>19.0</td>\n",
       "      <td>Greenwich, Connecticut, US</td>\n",
       "      <td>Southampton</td>\n",
       "      <td>Greenwich, Connecticut, US</td>\n",
       "      <td>3</td>\n",
       "      <td>NaN</td>\n",
       "      <td>1.0</td>\n",
       "    </tr>\n",
       "    <tr>\n",
       "      <th>888</th>\n",
       "      <td>889</td>\n",
       "      <td>0</td>\n",
       "      <td>3</td>\n",
       "      <td>Johnston, Miss. Catherine Helen \"Carrie\"</td>\n",
       "      <td>female</td>\n",
       "      <td>NaN</td>\n",
       "      <td>1</td>\n",
       "      <td>2</td>\n",
       "      <td>W./C. 6607</td>\n",
       "      <td>23.4500</td>\n",
       "      <td>...</td>\n",
       "      <td>S</td>\n",
       "      <td>910.0</td>\n",
       "      <td>Johnston, Miss Catherine Nellie</td>\n",
       "      <td>7.0</td>\n",
       "      <td>Thornton Heath, London, England</td>\n",
       "      <td>Southampton</td>\n",
       "      <td>New London, Connecticut, US</td>\n",
       "      <td>NaN</td>\n",
       "      <td>NaN</td>\n",
       "      <td>3.0</td>\n",
       "    </tr>\n",
       "    <tr>\n",
       "      <th>889</th>\n",
       "      <td>890</td>\n",
       "      <td>1</td>\n",
       "      <td>1</td>\n",
       "      <td>Behr, Mr. Karl Howell</td>\n",
       "      <td>male</td>\n",
       "      <td>26.0</td>\n",
       "      <td>0</td>\n",
       "      <td>0</td>\n",
       "      <td>111369</td>\n",
       "      <td>30.0000</td>\n",
       "      <td>...</td>\n",
       "      <td>C</td>\n",
       "      <td>28.0</td>\n",
       "      <td>Behr, Mr. Karl Howell</td>\n",
       "      <td>26.0</td>\n",
       "      <td>New York, New York, US</td>\n",
       "      <td>Cherbourg</td>\n",
       "      <td>New York, New York, US</td>\n",
       "      <td>5</td>\n",
       "      <td>NaN</td>\n",
       "      <td>1.0</td>\n",
       "    </tr>\n",
       "    <tr>\n",
       "      <th>890</th>\n",
       "      <td>891</td>\n",
       "      <td>0</td>\n",
       "      <td>3</td>\n",
       "      <td>Dooley, Mr. Patrick</td>\n",
       "      <td>male</td>\n",
       "      <td>32.0</td>\n",
       "      <td>0</td>\n",
       "      <td>0</td>\n",
       "      <td>370376</td>\n",
       "      <td>7.7500</td>\n",
       "      <td>...</td>\n",
       "      <td>Q</td>\n",
       "      <td>783.0</td>\n",
       "      <td>Dooley, Mr. Patrick J.</td>\n",
       "      <td>43.0</td>\n",
       "      <td>Patrickswell, Limerick, Ireland</td>\n",
       "      <td>Queenstown</td>\n",
       "      <td>New York City</td>\n",
       "      <td>NaN</td>\n",
       "      <td>NaN</td>\n",
       "      <td>3.0</td>\n",
       "    </tr>\n",
       "  </tbody>\n",
       "</table>\n",
       "<p>891 rows × 21 columns</p>\n",
       "</div>"
      ],
      "text/plain": [
       "     PassengerId  Survived  Pclass  \\\n",
       "0              1         0       3   \n",
       "1              2         1       1   \n",
       "2              3         1       3   \n",
       "3              4         1       1   \n",
       "4              5         0       3   \n",
       "..           ...       ...     ...   \n",
       "886          887         0       2   \n",
       "887          888         1       1   \n",
       "888          889         0       3   \n",
       "889          890         1       1   \n",
       "890          891         0       3   \n",
       "\n",
       "                                                  Name     Sex   Age  SibSp  \\\n",
       "0                              Braund, Mr. Owen Harris    male  22.0      1   \n",
       "1    Cumings, Mrs. John Bradley (Florence Briggs Th...  female  38.0      1   \n",
       "2                               Heikkinen, Miss. Laina  female  26.0      0   \n",
       "3         Futrelle, Mrs. Jacques Heath (Lily May Peel)  female  35.0      1   \n",
       "4                             Allen, Mr. William Henry    male  35.0      0   \n",
       "..                                                 ...     ...   ...    ...   \n",
       "886                              Montvila, Rev. Juozas    male  27.0      0   \n",
       "887                       Graham, Miss. Margaret Edith  female  19.0      0   \n",
       "888           Johnston, Miss. Catherine Helen \"Carrie\"  female   NaN      1   \n",
       "889                              Behr, Mr. Karl Howell    male  26.0      0   \n",
       "890                                Dooley, Mr. Patrick    male  32.0      0   \n",
       "\n",
       "     Parch            Ticket     Fare  ... Embarked WikiId  \\\n",
       "0        0         A/5 21171   7.2500  ...        S  691.0   \n",
       "1        0          PC 17599  71.2833  ...        C   90.0   \n",
       "2        0  STON/O2. 3101282   7.9250  ...        S  865.0   \n",
       "3        0            113803  53.1000  ...        S  127.0   \n",
       "4        0            373450   8.0500  ...        S  627.0   \n",
       "..     ...               ...      ...  ...      ...    ...   \n",
       "886      0            211536  13.0000  ...        S  514.0   \n",
       "887      0            112053  30.0000  ...        S  137.0   \n",
       "888      2        W./C. 6607  23.4500  ...        S  910.0   \n",
       "889      0            111369  30.0000  ...        C   28.0   \n",
       "890      0            370376   7.7500  ...        Q  783.0   \n",
       "\n",
       "                                      Name_wiki Age_wiki  \\\n",
       "0                       Braund, Mr. Owen Harris     22.0   \n",
       "1    Cumings, Mrs. Florence Briggs (née Thayer)     35.0   \n",
       "2                         Heikkinen, Miss Laina     26.0   \n",
       "3            Futrelle, Mrs. Lily May (née Peel)     35.0   \n",
       "4                      Allen, Mr. William Henry     35.0   \n",
       "..                                          ...      ...   \n",
       "886                     Montvila, Father Juozas     27.0   \n",
       "887                 Graham, Miss Margaret Edith     19.0   \n",
       "888             Johnston, Miss Catherine Nellie      7.0   \n",
       "889                       Behr, Mr. Karl Howell     26.0   \n",
       "890                      Dooley, Mr. Patrick J.     43.0   \n",
       "\n",
       "                               Hometown      Boarded  \\\n",
       "0            Bridgerule, Devon, England  Southampton   \n",
       "1                New York, New York, US    Cherbourg   \n",
       "2                    Jyväskylä, Finland  Southampton   \n",
       "3           Scituate, Massachusetts, US  Southampton   \n",
       "4    Birmingham, West Midlands, England  Southampton   \n",
       "..                                  ...          ...   \n",
       "886              Gudinė, Lithuania [76]  Southampton   \n",
       "887          Greenwich, Connecticut, US  Southampton   \n",
       "888     Thornton Heath, London, England  Southampton   \n",
       "889              New York, New York, US    Cherbourg   \n",
       "890     Patrickswell, Limerick, Ireland   Queenstown   \n",
       "\n",
       "                                 Destination Lifeboat Body Class  \n",
       "0    Qu'Appelle Valley, Saskatchewan, Canada      NaN  NaN   3.0  \n",
       "1                     New York, New York, US        4  NaN   1.0  \n",
       "2                              New York City      14?  NaN   3.0  \n",
       "3                Scituate, Massachusetts, US        D  NaN   1.0  \n",
       "4                              New York City      NaN  NaN   3.0  \n",
       "..                                       ...      ...  ...   ...  \n",
       "886             Worcester, Massachusetts, US      NaN  NaN   2.0  \n",
       "887               Greenwich, Connecticut, US        3  NaN   1.0  \n",
       "888              New London, Connecticut, US      NaN  NaN   3.0  \n",
       "889                   New York, New York, US        5  NaN   1.0  \n",
       "890                            New York City      NaN  NaN   3.0  \n",
       "\n",
       "[891 rows x 21 columns]"
      ]
     },
     "execution_count": 8,
     "metadata": {},
     "output_type": "execute_result"
    }
   ],
   "source": [
    "df[\"Survived\"]=df[\"Survived\"].astype(int) #change its data type to int \n",
    "df"
   ]
  },
  {
   "cell_type": "code",
   "execution_count": 9,
   "id": "2497d630-340e-4dda-a365-a9fc709e70ef",
   "metadata": {},
   "outputs": [],
   "source": [
    "df[\"Sex\"]=df[\"Sex\"].replace(\"male\",\"Male\") #to make it better to see just capitalize (optional) \n",
    "df[\"Sex\"]=df[\"Sex\"].replace(\"female\",\"Female\") "
   ]
  },
  {
   "cell_type": "markdown",
   "id": "e9685dc5-2aa6-415b-b8e4-40273095ddd0",
   "metadata": {},
   "source": [
    "## Filling the missing values"
   ]
  },
  {
   "cell_type": "markdown",
   "id": "fe891100-86a2-467b-bdd6-ea8e5543b0b2",
   "metadata": {},
   "source": [
    "### we will use age wiki to fill Age column so we need to fix it first (They both the same)"
   ]
  },
  {
   "cell_type": "code",
   "execution_count": 12,
   "id": "89e45d64-eda6-45c5-a9d8-bd6f8bbfc02b",
   "metadata": {},
   "outputs": [],
   "source": [
    "Age_wiki_median=df[\"Age_wiki\"].median() \n",
    "df[\"Age_wiki\"]=df[\"Age_wiki\"].fillna(Age_wiki_median)\n"
   ]
  },
  {
   "cell_type": "code",
   "execution_count": 13,
   "id": "be701479-5e35-45f8-8d0c-79e3ae5e6301",
   "metadata": {},
   "outputs": [],
   "source": [
    "df['Age'] = df['Age'].fillna(df['Age_wiki']) #fix the missing values using Age_wiki it is the same as Age \n",
    "df.drop('Age_wiki', axis=1, inplace=True)"
   ]
  },
  {
   "cell_type": "code",
   "execution_count": 14,
   "id": "0acc7de5-2640-4722-8b9c-86ec792b5985",
   "metadata": {},
   "outputs": [
    {
     "data": {
      "text/plain": [
       "PassengerId      0\n",
       "Survived         0\n",
       "Pclass           0\n",
       "Name             0\n",
       "Sex              0\n",
       "Age              0\n",
       "SibSp            0\n",
       "Parch            0\n",
       "Ticket           0\n",
       "Fare             0\n",
       "Cabin          687\n",
       "Embarked         2\n",
       "WikiId           2\n",
       "Name_wiki        2\n",
       "Hometown         2\n",
       "Boarded          2\n",
       "Destination      2\n",
       "Lifeboat       546\n",
       "Body           804\n",
       "Class            2\n",
       "dtype: int64"
      ]
     },
     "execution_count": 14,
     "metadata": {},
     "output_type": "execute_result"
    }
   ],
   "source": [
    "df.isna().sum()"
   ]
  },
  {
   "cell_type": "markdown",
   "id": "969c5583-31bc-479a-abfd-b221f56d7959",
   "metadata": {},
   "source": [
    "### change the Age col data type after filling it cause age was float"
   ]
  },
  {
   "cell_type": "code",
   "execution_count": 16,
   "id": "8d6da0b1-5d68-42d9-a08a-3ade6b453379",
   "metadata": {},
   "outputs": [],
   "source": [
    "df[\"Age\"]=df[\"Age\"].astype(int) "
   ]
  },
  {
   "cell_type": "markdown",
   "id": "53a8e93f-575d-412f-9bdb-92cc0bbfbac1",
   "metadata": {},
   "source": [
    "### Embarked got only 2 missing values we will use the mode"
   ]
  },
  {
   "cell_type": "code",
   "execution_count": 18,
   "id": "c6c3c4ea-3554-488c-8c9b-6fa826e1ed39",
   "metadata": {},
   "outputs": [],
   "source": [
    "Embarked_mode=df[\"Embarked\"].mode().iloc[0] #fill the missing \n",
    "df[\"Embarked\"]=df[\"Embarked\"].fillna(Embarked_mode)"
   ]
  },
  {
   "cell_type": "code",
   "execution_count": 19,
   "id": "53f71898-add7-40b6-9e2e-caa0448ded8a",
   "metadata": {},
   "outputs": [
    {
     "name": "stdout",
     "output_type": "stream",
     "text": [
      "<class 'pandas.core.frame.DataFrame'>\n",
      "RangeIndex: 891 entries, 0 to 890\n",
      "Data columns (total 20 columns):\n",
      " #   Column       Non-Null Count  Dtype  \n",
      "---  ------       --------------  -----  \n",
      " 0   PassengerId  891 non-null    int64  \n",
      " 1   Survived     891 non-null    int32  \n",
      " 2   Pclass       891 non-null    int64  \n",
      " 3   Name         891 non-null    object \n",
      " 4   Sex          891 non-null    object \n",
      " 5   Age          891 non-null    int32  \n",
      " 6   SibSp        891 non-null    int64  \n",
      " 7   Parch        891 non-null    int64  \n",
      " 8   Ticket       891 non-null    object \n",
      " 9   Fare         891 non-null    float64\n",
      " 10  Cabin        204 non-null    object \n",
      " 11  Embarked     891 non-null    object \n",
      " 12  WikiId       889 non-null    float64\n",
      " 13  Name_wiki    889 non-null    object \n",
      " 14  Hometown     889 non-null    object \n",
      " 15  Boarded      889 non-null    object \n",
      " 16  Destination  889 non-null    object \n",
      " 17  Lifeboat     345 non-null    object \n",
      " 18  Body         87 non-null     object \n",
      " 19  Class        889 non-null    float64\n",
      "dtypes: float64(3), int32(2), int64(4), object(11)\n",
      "memory usage: 132.4+ KB\n"
     ]
    }
   ],
   "source": [
    "df.info()"
   ]
  },
  {
   "cell_type": "markdown",
   "id": "fca99949-cae2-4446-9980-1f9b5cf2d614",
   "metadata": {},
   "source": [
    "### Droping unnecessary columns in our analysis"
   ]
  },
  {
   "cell_type": "code",
   "execution_count": 21,
   "id": "316d19bd-c5bb-4065-8185-dc5224cd4997",
   "metadata": {},
   "outputs": [],
   "source": [
    "df.drop('Name_wiki', axis=1, inplace=True) #it is the same as name col so we drop it \n",
    "df.drop('WikiId', axis=1, inplace=True)"
   ]
  },
  {
   "cell_type": "markdown",
   "id": "9cb9f58a-8542-4a89-bd8a-32fd7a0ee5ad",
   "metadata": {},
   "source": [
    "### Hometown got 2 missing we use mode"
   ]
  },
  {
   "cell_type": "code",
   "execution_count": 23,
   "id": "d1de0a56-4c5b-4a8f-8f0c-bc688977189e",
   "metadata": {},
   "outputs": [],
   "source": [
    "Hometown_mode=df[\"Hometown\"].mode().iloc[0] #fill missing \n",
    "df[\"Hometown\"]=df[\"Hometown\"].fillna(Hometown_mode)"
   ]
  },
  {
   "cell_type": "markdown",
   "id": "5cd38d5e-5dab-474e-95e6-a50b385b2041",
   "metadata": {},
   "source": [
    "### Boarded , Embarked they are the same but one is word the other is letter"
   ]
  },
  {
   "cell_type": "code",
   "execution_count": 25,
   "id": "b04fd701-5465-44d2-9da8-812556b4fc77",
   "metadata": {},
   "outputs": [
    {
     "data": {
      "text/plain": [
       "Boarded      Embarked\n",
       "Southampton  S           625\n",
       "Cherbourg    C           156\n",
       "Queenstown   Q            75\n",
       "Southampton  C            11\n",
       "Cherbourg    S            10\n",
       "Belfast      S             9\n",
       "Southampton  Q             2\n",
       "Queenstown   S             1\n",
       "Name: count, dtype: int64"
      ]
     },
     "execution_count": 25,
     "metadata": {},
     "output_type": "execute_result"
    }
   ],
   "source": [
    "df[df['Boarded'].notna() & df['Embarked'].notna()][['Boarded', 'Embarked']].value_counts() "
   ]
  },
  {
   "cell_type": "code",
   "execution_count": 26,
   "id": "1d5db337-be30-4a2b-83fb-f3a7c01e9248",
   "metadata": {},
   "outputs": [],
   "source": [
    "# Define mapping from code to full name\n",
    "port_map = {'S': 'Southampton', 'C': 'Cherbourg', 'Q': 'Queenstown'}\n",
    "\n",
    "# Fill missing Boarded using Embarked\n",
    "df['Boarded'] = df['Boarded'].fillna(df['Embarked'].map(port_map))\n"
   ]
  },
  {
   "cell_type": "markdown",
   "id": "795a8ebb-9769-4e9c-a82a-1702f9781964",
   "metadata": {},
   "source": [
    "### Destination also got only 2 missing values so we will use mode"
   ]
  },
  {
   "cell_type": "code",
   "execution_count": 28,
   "id": "5090b9cb-bb60-441f-83ab-6cd87fbc42de",
   "metadata": {},
   "outputs": [],
   "source": [
    "Destination_mode=df[\"Destination\"].mode().iloc[0] #fill missing\n",
    "df[\"Destination\"]=df[\"Destination\"].fillna(Destination_mode)"
   ]
  },
  {
   "cell_type": "markdown",
   "id": "65adf202-bb55-4a56-adfe-e634dd794219",
   "metadata": {},
   "source": [
    "### Life boat column need to be cleaned before filling the missing "
   ]
  },
  {
   "cell_type": "code",
   "execution_count": 30,
   "id": "c7d70f00-b6ae-4a21-b8bf-f5e82600196e",
   "metadata": {},
   "outputs": [],
   "source": [
    "df[\"Lifeboat\"]=df[\"Lifeboat\"].str.strip(\"?/.\") #clean the col first before anything "
   ]
  },
  {
   "cell_type": "markdown",
   "id": "f7e059ea-41c3-4be0-b891-520f49cad713",
   "metadata": {},
   "source": [
    "### here lifeboat column got a lot of missing values but for the experment i tried to see the boats used by each class and use this to fill the missing"
   ]
  },
  {
   "cell_type": "code",
   "execution_count": 32,
   "id": "6b7f3085-3e99-4f96-be33-fb9755c246b5",
   "metadata": {},
   "outputs": [
    {
     "data": {
      "text/plain": [
       "Pclass  Lifeboat\n",
       "1       3           21\n",
       "        5           21\n",
       "        8           17\n",
       "        4           16\n",
       "        6           15\n",
       "        7           11\n",
       "        D            7\n",
       "        10           5\n",
       "        2            5\n",
       "        9            5\n",
       "        1            3\n",
       "        11           3\n",
       "        14           3\n",
       "        B            2\n",
       "        15           1\n",
       "        A            1\n",
       "        C            1\n",
       "2       14          16\n",
       "        9           12\n",
       "        10          11\n",
       "        11          11\n",
       "        12          11\n",
       "        13           9\n",
       "        4            6\n",
       "                     5\n",
       "        16           3\n",
       "        D            2\n",
       "        15           1\n",
       "        B            1\n",
       "3       C           27\n",
       "        15          26\n",
       "        13          17\n",
       "        16          15\n",
       "                     5\n",
       "        A            5\n",
       "        D            5\n",
       "        14           4\n",
       "        B            4\n",
       "        2            3\n",
       "        9            3\n",
       "        10           2\n",
       "        11           2\n",
       "        12           1\n",
       "        6            1\n",
       "Name: count, dtype: int64"
      ]
     },
     "execution_count": 32,
     "metadata": {},
     "output_type": "execute_result"
    }
   ],
   "source": [
    "df[df['Lifeboat'].notna()].groupby('Pclass')['Lifeboat'].value_counts() #we check the most freq boats used by each class\n"
   ]
  },
  {
   "cell_type": "code",
   "execution_count": 33,
   "id": "88d8b954-d807-40c8-bcfd-56fa06e9d2ed",
   "metadata": {},
   "outputs": [],
   "source": [
    "# Step 1: Get the most common (mode) lifeboat for each class, ignoring missing/empty\n",
    "mode_lifeboat = df[df['Lifeboat'].notna() & (df['Lifeboat'] != '')].groupby('Pclass')['Lifeboat'].agg(lambda x: x.mode()[0])\n",
    "\n",
    "# Step 2: Fill missing (NaN or empty string '') with class-based mode\n",
    "df['Lifeboat'] = df.apply(\n",
    "    lambda row: mode_lifeboat[row['Pclass']] if pd.isna(row['Lifeboat']) else row['Lifeboat'],\n",
    "    axis=1\n",
    ")"
   ]
  },
  {
   "cell_type": "markdown",
   "id": "1a374423-caf6-44ad-9f1c-8531d8f5f157",
   "metadata": {},
   "source": [
    "### Droping unnecessary columns in our analysis"
   ]
  },
  {
   "cell_type": "code",
   "execution_count": 35,
   "id": "2374b3d7-2235-4a5f-8d6f-68e4c26a3f33",
   "metadata": {},
   "outputs": [],
   "source": [
    "df.drop('Body', axis=1, inplace=True) #over 90% missing so we drop it "
   ]
  },
  {
   "cell_type": "code",
   "execution_count": 36,
   "id": "18a3297b-cbea-4667-9699-fca29bc3b231",
   "metadata": {},
   "outputs": [],
   "source": [
    "df.drop('Class', axis=1, inplace=True) #class is the same as pclass col so i will discard it "
   ]
  },
  {
   "cell_type": "code",
   "execution_count": 37,
   "id": "241ebdba-2e86-4d51-b178-106a99a17b5c",
   "metadata": {
    "scrolled": true
   },
   "outputs": [
    {
     "name": "stdout",
     "output_type": "stream",
     "text": [
      "<class 'pandas.core.frame.DataFrame'>\n",
      "RangeIndex: 891 entries, 0 to 890\n",
      "Data columns (total 16 columns):\n",
      " #   Column       Non-Null Count  Dtype  \n",
      "---  ------       --------------  -----  \n",
      " 0   PassengerId  891 non-null    int64  \n",
      " 1   Survived     891 non-null    int32  \n",
      " 2   Pclass       891 non-null    int64  \n",
      " 3   Name         891 non-null    object \n",
      " 4   Sex          891 non-null    object \n",
      " 5   Age          891 non-null    int32  \n",
      " 6   SibSp        891 non-null    int64  \n",
      " 7   Parch        891 non-null    int64  \n",
      " 8   Ticket       891 non-null    object \n",
      " 9   Fare         891 non-null    float64\n",
      " 10  Cabin        204 non-null    object \n",
      " 11  Embarked     891 non-null    object \n",
      " 12  Hometown     891 non-null    object \n",
      " 13  Boarded      891 non-null    object \n",
      " 14  Destination  891 non-null    object \n",
      " 15  Lifeboat     891 non-null    object \n",
      "dtypes: float64(1), int32(2), int64(4), object(9)\n",
      "memory usage: 104.5+ KB\n"
     ]
    }
   ],
   "source": [
    "df.info()"
   ]
  },
  {
   "cell_type": "markdown",
   "id": "7a05ebbf-4d0d-4b45-b2ed-83b0002d9c55",
   "metadata": {},
   "source": [
    "### here cabin i thought of what we get from the cabin column? we get the place of the passenger on the ship so the letter in cabin number tell which place the passenger in also from the place you tells the class so we could use both to fill the missing and create new column named deck"
   ]
  },
  {
   "cell_type": "code",
   "execution_count": 39,
   "id": "2bc6ebed-4c5d-4bd1-96a1-75bcb6d49d25",
   "metadata": {},
   "outputs": [
    {
     "data": {
      "text/plain": [
       "Cabin\n",
       "B96 B98        4\n",
       "G6             4\n",
       "C23 C25 C27    4\n",
       "C22 C26        3\n",
       "F33            3\n",
       "              ..\n",
       "E34            1\n",
       "C7             1\n",
       "C54            1\n",
       "E36            1\n",
       "C148           1\n",
       "Name: count, Length: 147, dtype: int64"
      ]
     },
     "execution_count": 39,
     "metadata": {},
     "output_type": "execute_result"
    }
   ],
   "source": [
    "df[\"Cabin\"].value_counts()"
   ]
  },
  {
   "cell_type": "code",
   "execution_count": 40,
   "id": "664e26a0-129b-4f18-9d58-75da362c25fc",
   "metadata": {},
   "outputs": [],
   "source": [
    "df['Deck'] = df['Cabin'].str[0] #the letter in start of each cabin gives a insight where the cabin was also what th P class was\n"
   ]
  },
  {
   "cell_type": "code",
   "execution_count": 41,
   "id": "a4f8d8d0-264f-4149-9cc5-94cb34d41ffe",
   "metadata": {},
   "outputs": [],
   "source": [
    "df = df.drop(columns=['Cabin']) #and we will keep deck\n"
   ]
  },
  {
   "cell_type": "code",
   "execution_count": 42,
   "id": "1cb5852e-cf51-478b-b52a-88d5a020bbba",
   "metadata": {},
   "outputs": [],
   "source": [
    "deck_info = {  #after a little search i tried to get the means of each letter\n",
    "    'A': {'name': 'Promenade Deck', 'class': 1},\n",
    "    'B': {'name': 'Bridge Deck', 'class': 1},\n",
    "    'C': {'name': 'Shelter Deck', 'class': 1},\n",
    "    'D': {'name': 'Saloon Deck', 'class': 1},\n",
    "    'E': {'name': 'Upper Deck', 'class': 2},\n",
    "    'F': {'name': 'Middle Deck', 'class': 2},\n",
    "    'G': {'name': 'Lower Deck', 'class': 3},\n",
    "    'U': {'name': 'Unknown', 'class': None}  # U = filled NaN\n",
    "}"
   ]
  },
  {
   "cell_type": "code",
   "execution_count": 43,
   "id": "fdd324e5-739a-4e8a-ae21-b59e0e7124bd",
   "metadata": {},
   "outputs": [],
   "source": [
    "# Step 1: Compute the most frequent deck (mode) for each Pclass (excluding NaN decks)\n",
    "deck_mode_by_class = df[df['Deck'].notna()].groupby('Pclass')['Deck'].agg(lambda x: x.mode()[0])\n",
    "\n",
    "# Step 2: Fill NaN Decks using the mode deck of their Pclass\n",
    "df['Deck'] = df.apply(\n",
    "    lambda row: deck_mode_by_class[row['Pclass']] if pd.isna(row['Deck']) else row['Deck'],\n",
    "    axis=1\n",
    ")\n"
   ]
  },
  {
   "cell_type": "code",
   "execution_count": 44,
   "id": "1e7b3fd1-c5ee-4e6a-87a5-88450f912e63",
   "metadata": {},
   "outputs": [
    {
     "name": "stdout",
     "output_type": "stream",
     "text": [
      "<class 'pandas.core.frame.DataFrame'>\n",
      "RangeIndex: 891 entries, 0 to 890\n",
      "Data columns (total 16 columns):\n",
      " #   Column       Non-Null Count  Dtype  \n",
      "---  ------       --------------  -----  \n",
      " 0   PassengerId  891 non-null    int64  \n",
      " 1   Survived     891 non-null    int32  \n",
      " 2   Pclass       891 non-null    int64  \n",
      " 3   Name         891 non-null    object \n",
      " 4   Sex          891 non-null    object \n",
      " 5   Age          891 non-null    int32  \n",
      " 6   SibSp        891 non-null    int64  \n",
      " 7   Parch        891 non-null    int64  \n",
      " 8   Ticket       891 non-null    object \n",
      " 9   Fare         891 non-null    float64\n",
      " 10  Embarked     891 non-null    object \n",
      " 11  Hometown     891 non-null    object \n",
      " 12  Boarded      891 non-null    object \n",
      " 13  Destination  891 non-null    object \n",
      " 14  Lifeboat     891 non-null    object \n",
      " 15  Deck         891 non-null    object \n",
      "dtypes: float64(1), int32(2), int64(4), object(9)\n",
      "memory usage: 104.5+ KB\n"
     ]
    }
   ],
   "source": [
    "df.info()"
   ]
  },
  {
   "cell_type": "code",
   "execution_count": 45,
   "id": "30a6af45-884e-4021-a139-b3532c0a8f3b",
   "metadata": {},
   "outputs": [
    {
     "name": "stdout",
     "output_type": "stream",
     "text": [
      "['F' 'C' 'E' 'G' 'D' 'A' 'B' 'T']\n"
     ]
    }
   ],
   "source": [
    "print(df['Deck'].unique())\n",
    "\n"
   ]
  },
  {
   "cell_type": "markdown",
   "id": "00627cbe-5768-4bff-a98b-8e230ef4ffc0",
   "metadata": {},
   "source": [
    "# the outliers part"
   ]
  },
  {
   "cell_type": "code",
   "execution_count": 47,
   "id": "65e5420e-b6df-4ea4-9d18-4d5c2a02cbce",
   "metadata": {},
   "outputs": [
    {
     "data": {
      "text/html": [
       "<div>\n",
       "<style scoped>\n",
       "    .dataframe tbody tr th:only-of-type {\n",
       "        vertical-align: middle;\n",
       "    }\n",
       "\n",
       "    .dataframe tbody tr th {\n",
       "        vertical-align: top;\n",
       "    }\n",
       "\n",
       "    .dataframe thead th {\n",
       "        text-align: right;\n",
       "    }\n",
       "</style>\n",
       "<table border=\"1\" class=\"dataframe\">\n",
       "  <thead>\n",
       "    <tr style=\"text-align: right;\">\n",
       "      <th></th>\n",
       "      <th>PassengerId</th>\n",
       "      <th>Survived</th>\n",
       "      <th>Pclass</th>\n",
       "      <th>Age</th>\n",
       "      <th>SibSp</th>\n",
       "      <th>Parch</th>\n",
       "      <th>Fare</th>\n",
       "    </tr>\n",
       "  </thead>\n",
       "  <tbody>\n",
       "    <tr>\n",
       "      <th>count</th>\n",
       "      <td>891.000000</td>\n",
       "      <td>891.000000</td>\n",
       "      <td>891.000000</td>\n",
       "      <td>891.000000</td>\n",
       "      <td>891.000000</td>\n",
       "      <td>891.000000</td>\n",
       "      <td>891.000000</td>\n",
       "    </tr>\n",
       "    <tr>\n",
       "      <th>mean</th>\n",
       "      <td>446.000000</td>\n",
       "      <td>0.383838</td>\n",
       "      <td>2.308642</td>\n",
       "      <td>29.370370</td>\n",
       "      <td>0.523008</td>\n",
       "      <td>0.381594</td>\n",
       "      <td>32.204208</td>\n",
       "    </tr>\n",
       "    <tr>\n",
       "      <th>std</th>\n",
       "      <td>257.353842</td>\n",
       "      <td>0.486592</td>\n",
       "      <td>0.836071</td>\n",
       "      <td>14.083929</td>\n",
       "      <td>1.102743</td>\n",
       "      <td>0.806057</td>\n",
       "      <td>49.693429</td>\n",
       "    </tr>\n",
       "    <tr>\n",
       "      <th>min</th>\n",
       "      <td>1.000000</td>\n",
       "      <td>0.000000</td>\n",
       "      <td>1.000000</td>\n",
       "      <td>0.000000</td>\n",
       "      <td>0.000000</td>\n",
       "      <td>0.000000</td>\n",
       "      <td>0.000000</td>\n",
       "    </tr>\n",
       "    <tr>\n",
       "      <th>25%</th>\n",
       "      <td>223.500000</td>\n",
       "      <td>0.000000</td>\n",
       "      <td>2.000000</td>\n",
       "      <td>20.000000</td>\n",
       "      <td>0.000000</td>\n",
       "      <td>0.000000</td>\n",
       "      <td>7.910400</td>\n",
       "    </tr>\n",
       "    <tr>\n",
       "      <th>50%</th>\n",
       "      <td>446.000000</td>\n",
       "      <td>0.000000</td>\n",
       "      <td>3.000000</td>\n",
       "      <td>28.000000</td>\n",
       "      <td>0.000000</td>\n",
       "      <td>0.000000</td>\n",
       "      <td>14.454200</td>\n",
       "    </tr>\n",
       "    <tr>\n",
       "      <th>75%</th>\n",
       "      <td>668.500000</td>\n",
       "      <td>1.000000</td>\n",
       "      <td>3.000000</td>\n",
       "      <td>38.000000</td>\n",
       "      <td>1.000000</td>\n",
       "      <td>0.000000</td>\n",
       "      <td>31.000000</td>\n",
       "    </tr>\n",
       "    <tr>\n",
       "      <th>max</th>\n",
       "      <td>891.000000</td>\n",
       "      <td>1.000000</td>\n",
       "      <td>3.000000</td>\n",
       "      <td>80.000000</td>\n",
       "      <td>8.000000</td>\n",
       "      <td>6.000000</td>\n",
       "      <td>512.329200</td>\n",
       "    </tr>\n",
       "  </tbody>\n",
       "</table>\n",
       "</div>"
      ],
      "text/plain": [
       "       PassengerId    Survived      Pclass         Age       SibSp  \\\n",
       "count   891.000000  891.000000  891.000000  891.000000  891.000000   \n",
       "mean    446.000000    0.383838    2.308642   29.370370    0.523008   \n",
       "std     257.353842    0.486592    0.836071   14.083929    1.102743   \n",
       "min       1.000000    0.000000    1.000000    0.000000    0.000000   \n",
       "25%     223.500000    0.000000    2.000000   20.000000    0.000000   \n",
       "50%     446.000000    0.000000    3.000000   28.000000    0.000000   \n",
       "75%     668.500000    1.000000    3.000000   38.000000    1.000000   \n",
       "max     891.000000    1.000000    3.000000   80.000000    8.000000   \n",
       "\n",
       "            Parch        Fare  \n",
       "count  891.000000  891.000000  \n",
       "mean     0.381594   32.204208  \n",
       "std      0.806057   49.693429  \n",
       "min      0.000000    0.000000  \n",
       "25%      0.000000    7.910400  \n",
       "50%      0.000000   14.454200  \n",
       "75%      0.000000   31.000000  \n",
       "max      6.000000  512.329200  "
      ]
     },
     "execution_count": 47,
     "metadata": {},
     "output_type": "execute_result"
    }
   ],
   "source": [
    "df.describe() #what to watch here Age,Fare\t"
   ]
  },
  {
   "cell_type": "code",
   "execution_count": 48,
   "id": "c8de538f-338e-4898-a2a9-bf1e0b81f5b3",
   "metadata": {},
   "outputs": [
    {
     "data": {
      "image/png": "[encoded data removed]",
      "text/plain": [
       "<Figure size 1000x600 with 2 Axes>"
      ]
     },
     "metadata": {},
     "output_type": "display_data"
    }
   ],
   "source": [
    "# Columns to visualize\n",
    "cols = ['Age', 'Fare']\n",
    "\n",
    "# Set up the figure\n",
    "plt.figure(figsize=(10, 6))\n",
    "\n",
    "# Loop over each column to create a subplot\n",
    "for i, col in enumerate(cols, 1):\n",
    "    plt.subplot(2, 2, i)\n",
    "    sns.boxplot(x=df[col], color='skyblue')\n",
    "    plt.title(f'Boxplot of {col}')\n",
    "    plt.tight_layout()\n",
    "\n",
    "plt.show()\n"
   ]
  },
  {
   "cell_type": "code",
   "execution_count": 49,
   "id": "6c329a18-c6f0-4396-9694-049e950adb55",
   "metadata": {},
   "outputs": [],
   "source": [
    "numeric_cols=['Age', 'Fare']\n",
    "for col in numeric_cols:\n",
    "        Q1 = df[col].quantile(0.25)\n",
    "        Q3 = df[col].quantile(0.75)\n",
    "        IQR = Q3 - Q1\n",
    "        lower_bound = Q1 - 1.5 * IQR\n",
    "        upper_bound = Q3 + 1.5 * IQR\n",
    "        df[col] = df[col].clip(lower=lower_bound, upper=upper_bound)   \n"
   ]
  },
  {
   "cell_type": "code",
   "execution_count": 50,
   "id": "d942f43e-ee85-4746-a753-82d3216e4cc8",
   "metadata": {},
   "outputs": [
    {
     "data": {
      "image/png": "[encoded data removed]",
      "text/plain": [
       "<Figure size 1000x600 with 2 Axes>"
      ]
     },
     "metadata": {},
     "output_type": "display_data"
    }
   ],
   "source": [
    "# Columns to visualize\n",
    "cols = ['Age', 'Fare']\n",
    "\n",
    "# Set up the figure\n",
    "plt.figure(figsize=(10, 6))\n",
    "\n",
    "# Loop over each column to create a subplot\n",
    "for i, col in enumerate(cols, 1):\n",
    "    plt.subplot(2, 2, i)\n",
    "    sns.boxplot(x=df[col], color='skyblue')\n",
    "    plt.title(f'Boxplot of {col}')\n",
    "    plt.tight_layout()\n",
    "\n",
    "plt.show()\n"
   ]
  },
  {
   "cell_type": "markdown",
   "id": "f170dd72-cf97-472e-916d-7e6c0e413ffc",
   "metadata": {},
   "source": [
    "# insights"
   ]
  },
  {
   "cell_type": "code",
   "execution_count": 109,
   "id": "f8a93c63-4dbe-49f5-890a-79faa46374b9",
   "metadata": {},
   "outputs": [
    {
     "data": {
      "text/html": [
       "<div>\n",
       "<style scoped>\n",
       "    .dataframe tbody tr th:only-of-type {\n",
       "        vertical-align: middle;\n",
       "    }\n",
       "\n",
       "    .dataframe tbody tr th {\n",
       "        vertical-align: top;\n",
       "    }\n",
       "\n",
       "    .dataframe thead th {\n",
       "        text-align: right;\n",
       "    }\n",
       "</style>\n",
       "<table border=\"1\" class=\"dataframe\">\n",
       "  <thead>\n",
       "    <tr style=\"text-align: right;\">\n",
       "      <th></th>\n",
       "      <th>PassengerId</th>\n",
       "      <th>Survived</th>\n",
       "      <th>Pclass</th>\n",
       "      <th>Name</th>\n",
       "      <th>Sex</th>\n",
       "      <th>Age</th>\n",
       "      <th>Ticket</th>\n",
       "      <th>Fare</th>\n",
       "      <th>Embarked</th>\n",
       "      <th>Hometown</th>\n",
       "      <th>Boarded</th>\n",
       "      <th>Destination</th>\n",
       "      <th>Lifeboat</th>\n",
       "      <th>Deck</th>\n",
       "      <th>SDLabel</th>\n",
       "      <th>family_size</th>\n",
       "      <th>fare_per_person</th>\n",
       "    </tr>\n",
       "  </thead>\n",
       "  <tbody>\n",
       "    <tr>\n",
       "      <th>0</th>\n",
       "      <td>1</td>\n",
       "      <td>0</td>\n",
       "      <td>3</td>\n",
       "      <td>Braund, Mr. Owen Harris</td>\n",
       "      <td>Male</td>\n",
       "      <td>22</td>\n",
       "      <td>A/5 21171</td>\n",
       "      <td>7.2500</td>\n",
       "      <td>S</td>\n",
       "      <td>Bridgerule, Devon, England</td>\n",
       "      <td>Southampton</td>\n",
       "      <td>Qu'Appelle Valley, Saskatchewan, Canada</td>\n",
       "      <td>C</td>\n",
       "      <td>F</td>\n",
       "      <td>Dead</td>\n",
       "      <td>2</td>\n",
       "      <td>3.6250</td>\n",
       "    </tr>\n",
       "    <tr>\n",
       "      <th>1</th>\n",
       "      <td>2</td>\n",
       "      <td>1</td>\n",
       "      <td>1</td>\n",
       "      <td>Cumings, Mrs. John Bradley (Florence Briggs Th...</td>\n",
       "      <td>Female</td>\n",
       "      <td>38</td>\n",
       "      <td>PC 17599</td>\n",
       "      <td>65.6344</td>\n",
       "      <td>C</td>\n",
       "      <td>New York, New York, US</td>\n",
       "      <td>Cherbourg</td>\n",
       "      <td>New York, New York, US</td>\n",
       "      <td>4</td>\n",
       "      <td>C</td>\n",
       "      <td>Survived</td>\n",
       "      <td>2</td>\n",
       "      <td>32.8172</td>\n",
       "    </tr>\n",
       "    <tr>\n",
       "      <th>2</th>\n",
       "      <td>3</td>\n",
       "      <td>1</td>\n",
       "      <td>3</td>\n",
       "      <td>Heikkinen, Miss. Laina</td>\n",
       "      <td>Female</td>\n",
       "      <td>26</td>\n",
       "      <td>STON/O2. 3101282</td>\n",
       "      <td>7.9250</td>\n",
       "      <td>S</td>\n",
       "      <td>Jyväskylä, Finland</td>\n",
       "      <td>Southampton</td>\n",
       "      <td>New York City</td>\n",
       "      <td>14</td>\n",
       "      <td>F</td>\n",
       "      <td>Survived</td>\n",
       "      <td>1</td>\n",
       "      <td>7.9250</td>\n",
       "    </tr>\n",
       "    <tr>\n",
       "      <th>3</th>\n",
       "      <td>4</td>\n",
       "      <td>1</td>\n",
       "      <td>1</td>\n",
       "      <td>Futrelle, Mrs. Jacques Heath (Lily May Peel)</td>\n",
       "      <td>Female</td>\n",
       "      <td>35</td>\n",
       "      <td>113803</td>\n",
       "      <td>53.1000</td>\n",
       "      <td>S</td>\n",
       "      <td>Scituate, Massachusetts, US</td>\n",
       "      <td>Southampton</td>\n",
       "      <td>Scituate, Massachusetts, US</td>\n",
       "      <td>D</td>\n",
       "      <td>C</td>\n",
       "      <td>Survived</td>\n",
       "      <td>2</td>\n",
       "      <td>26.5500</td>\n",
       "    </tr>\n",
       "    <tr>\n",
       "      <th>4</th>\n",
       "      <td>5</td>\n",
       "      <td>0</td>\n",
       "      <td>3</td>\n",
       "      <td>Allen, Mr. William Henry</td>\n",
       "      <td>Male</td>\n",
       "      <td>35</td>\n",
       "      <td>373450</td>\n",
       "      <td>8.0500</td>\n",
       "      <td>S</td>\n",
       "      <td>Birmingham, West Midlands, England</td>\n",
       "      <td>Southampton</td>\n",
       "      <td>New York City</td>\n",
       "      <td>C</td>\n",
       "      <td>F</td>\n",
       "      <td>Dead</td>\n",
       "      <td>1</td>\n",
       "      <td>8.0500</td>\n",
       "    </tr>\n",
       "    <tr>\n",
       "      <th>...</th>\n",
       "      <td>...</td>\n",
       "      <td>...</td>\n",
       "      <td>...</td>\n",
       "      <td>...</td>\n",
       "      <td>...</td>\n",
       "      <td>...</td>\n",
       "      <td>...</td>\n",
       "      <td>...</td>\n",
       "      <td>...</td>\n",
       "      <td>...</td>\n",
       "      <td>...</td>\n",
       "      <td>...</td>\n",
       "      <td>...</td>\n",
       "      <td>...</td>\n",
       "      <td>...</td>\n",
       "      <td>...</td>\n",
       "      <td>...</td>\n",
       "    </tr>\n",
       "    <tr>\n",
       "      <th>886</th>\n",
       "      <td>887</td>\n",
       "      <td>0</td>\n",
       "      <td>2</td>\n",
       "      <td>Montvila, Rev. Juozas</td>\n",
       "      <td>Male</td>\n",
       "      <td>27</td>\n",
       "      <td>211536</td>\n",
       "      <td>13.0000</td>\n",
       "      <td>S</td>\n",
       "      <td>Gudinė, Lithuania [76]</td>\n",
       "      <td>Southampton</td>\n",
       "      <td>Worcester, Massachusetts, US</td>\n",
       "      <td>14</td>\n",
       "      <td>F</td>\n",
       "      <td>Dead</td>\n",
       "      <td>1</td>\n",
       "      <td>13.0000</td>\n",
       "    </tr>\n",
       "    <tr>\n",
       "      <th>887</th>\n",
       "      <td>888</td>\n",
       "      <td>1</td>\n",
       "      <td>1</td>\n",
       "      <td>Graham, Miss. Margaret Edith</td>\n",
       "      <td>Female</td>\n",
       "      <td>19</td>\n",
       "      <td>112053</td>\n",
       "      <td>30.0000</td>\n",
       "      <td>S</td>\n",
       "      <td>Greenwich, Connecticut, US</td>\n",
       "      <td>Southampton</td>\n",
       "      <td>Greenwich, Connecticut, US</td>\n",
       "      <td>3</td>\n",
       "      <td>B</td>\n",
       "      <td>Survived</td>\n",
       "      <td>1</td>\n",
       "      <td>30.0000</td>\n",
       "    </tr>\n",
       "    <tr>\n",
       "      <th>888</th>\n",
       "      <td>889</td>\n",
       "      <td>0</td>\n",
       "      <td>3</td>\n",
       "      <td>Johnston, Miss. Catherine Helen \"Carrie\"</td>\n",
       "      <td>Female</td>\n",
       "      <td>7</td>\n",
       "      <td>W./C. 6607</td>\n",
       "      <td>23.4500</td>\n",
       "      <td>S</td>\n",
       "      <td>Thornton Heath, London, England</td>\n",
       "      <td>Southampton</td>\n",
       "      <td>New London, Connecticut, US</td>\n",
       "      <td>C</td>\n",
       "      <td>F</td>\n",
       "      <td>Dead</td>\n",
       "      <td>4</td>\n",
       "      <td>5.8625</td>\n",
       "    </tr>\n",
       "    <tr>\n",
       "      <th>889</th>\n",
       "      <td>890</td>\n",
       "      <td>1</td>\n",
       "      <td>1</td>\n",
       "      <td>Behr, Mr. Karl Howell</td>\n",
       "      <td>Male</td>\n",
       "      <td>26</td>\n",
       "      <td>111369</td>\n",
       "      <td>30.0000</td>\n",
       "      <td>C</td>\n",
       "      <td>New York, New York, US</td>\n",
       "      <td>Cherbourg</td>\n",
       "      <td>New York, New York, US</td>\n",
       "      <td>5</td>\n",
       "      <td>C</td>\n",
       "      <td>Survived</td>\n",
       "      <td>1</td>\n",
       "      <td>30.0000</td>\n",
       "    </tr>\n",
       "    <tr>\n",
       "      <th>890</th>\n",
       "      <td>891</td>\n",
       "      <td>0</td>\n",
       "      <td>3</td>\n",
       "      <td>Dooley, Mr. Patrick</td>\n",
       "      <td>Male</td>\n",
       "      <td>32</td>\n",
       "      <td>370376</td>\n",
       "      <td>7.7500</td>\n",
       "      <td>Q</td>\n",
       "      <td>Patrickswell, Limerick, Ireland</td>\n",
       "      <td>Queenstown</td>\n",
       "      <td>New York City</td>\n",
       "      <td>C</td>\n",
       "      <td>F</td>\n",
       "      <td>Dead</td>\n",
       "      <td>1</td>\n",
       "      <td>7.7500</td>\n",
       "    </tr>\n",
       "  </tbody>\n",
       "</table>\n",
       "<p>891 rows × 17 columns</p>\n",
       "</div>"
      ],
      "text/plain": [
       "     PassengerId  Survived  Pclass  \\\n",
       "0              1         0       3   \n",
       "1              2         1       1   \n",
       "2              3         1       3   \n",
       "3              4         1       1   \n",
       "4              5         0       3   \n",
       "..           ...       ...     ...   \n",
       "886          887         0       2   \n",
       "887          888         1       1   \n",
       "888          889         0       3   \n",
       "889          890         1       1   \n",
       "890          891         0       3   \n",
       "\n",
       "                                                  Name     Sex  Age  \\\n",
       "0                              Braund, Mr. Owen Harris    Male   22   \n",
       "1    Cumings, Mrs. John Bradley (Florence Briggs Th...  Female   38   \n",
       "2                               Heikkinen, Miss. Laina  Female   26   \n",
       "3         Futrelle, Mrs. Jacques Heath (Lily May Peel)  Female   35   \n",
       "4                             Allen, Mr. William Henry    Male   35   \n",
       "..                                                 ...     ...  ...   \n",
       "886                              Montvila, Rev. Juozas    Male   27   \n",
       "887                       Graham, Miss. Margaret Edith  Female   19   \n",
       "888           Johnston, Miss. Catherine Helen \"Carrie\"  Female    7   \n",
       "889                              Behr, Mr. Karl Howell    Male   26   \n",
       "890                                Dooley, Mr. Patrick    Male   32   \n",
       "\n",
       "               Ticket     Fare Embarked                            Hometown  \\\n",
       "0           A/5 21171   7.2500        S          Bridgerule, Devon, England   \n",
       "1            PC 17599  65.6344        C              New York, New York, US   \n",
       "2    STON/O2. 3101282   7.9250        S                  Jyväskylä, Finland   \n",
       "3              113803  53.1000        S         Scituate, Massachusetts, US   \n",
       "4              373450   8.0500        S  Birmingham, West Midlands, England   \n",
       "..                ...      ...      ...                                 ...   \n",
       "886            211536  13.0000        S              Gudinė, Lithuania [76]   \n",
       "887            112053  30.0000        S          Greenwich, Connecticut, US   \n",
       "888        W./C. 6607  23.4500        S     Thornton Heath, London, England   \n",
       "889            111369  30.0000        C              New York, New York, US   \n",
       "890            370376   7.7500        Q     Patrickswell, Limerick, Ireland   \n",
       "\n",
       "         Boarded                              Destination Lifeboat Deck  \\\n",
       "0    Southampton  Qu'Appelle Valley, Saskatchewan, Canada        C    F   \n",
       "1      Cherbourg                   New York, New York, US        4    C   \n",
       "2    Southampton                            New York City       14    F   \n",
       "3    Southampton              Scituate, Massachusetts, US        D    C   \n",
       "4    Southampton                            New York City        C    F   \n",
       "..           ...                                      ...      ...  ...   \n",
       "886  Southampton             Worcester, Massachusetts, US       14    F   \n",
       "887  Southampton               Greenwich, Connecticut, US        3    B   \n",
       "888  Southampton              New London, Connecticut, US        C    F   \n",
       "889    Cherbourg                   New York, New York, US        5    C   \n",
       "890   Queenstown                            New York City        C    F   \n",
       "\n",
       "      SDLabel  family_size  fare_per_person  \n",
       "0        Dead            2           3.6250  \n",
       "1    Survived            2          32.8172  \n",
       "2    Survived            1           7.9250  \n",
       "3    Survived            2          26.5500  \n",
       "4        Dead            1           8.0500  \n",
       "..        ...          ...              ...  \n",
       "886      Dead            1          13.0000  \n",
       "887  Survived            1          30.0000  \n",
       "888      Dead            4           5.8625  \n",
       "889  Survived            1          30.0000  \n",
       "890      Dead            1           7.7500  \n",
       "\n",
       "[891 rows x 17 columns]"
      ]
     },
     "execution_count": 109,
     "metadata": {},
     "output_type": "execute_result"
    }
   ],
   "source": [
    "df"
   ]
  },
  {
   "cell_type": "code",
   "execution_count": 117,
   "id": "3b357396-5160-4a72-954a-f92748a4c2ea",
   "metadata": {},
   "outputs": [
    {
     "data": {
      "text/plain": [
       "<Axes: xlabel='Sex', ylabel='Age'>"
      ]
     },
     "execution_count": 117,
     "metadata": {},
     "output_type": "execute_result"
    },
    {
     "data": {
      "image/png": "[encoded data removed]",
      "text/plain": [
       "<Figure size 640x480 with 1 Axes>"
      ]
     },
     "metadata": {},
     "output_type": "display_data"
    }
   ],
   "source": [
    "sns.barplot(data=df,x=\"Sex\",y=\"Age\",estimator=\"mean\")"
   ]
  },
  {
   "cell_type": "markdown",
   "id": "93a79e79-6347-4962-92c7-c8e349a46ff4",
   "metadata": {},
   "source": [
    "### The average Age for both genders"
   ]
  },
  {
   "cell_type": "code",
   "execution_count": 120,
   "id": "60dda8ca-d1a2-4e65-9b2f-a24293822ff8",
   "metadata": {},
   "outputs": [
    {
     "data": {
      "text/plain": [
       "<Axes: xlabel='Sex', ylabel='Survived'>"
      ]
     },
     "execution_count": 120,
     "metadata": {},
     "output_type": "execute_result"
    },
    {
     "data": {
      "image/png": "[encoded data removed]",
      "text/plain": [
       "<Figure size 640x480 with 1 Axes>"
      ]
     },
     "metadata": {},
     "output_type": "display_data"
    }
   ],
   "source": [
    "sns.barplot(data=df,x=\"Sex\",y=\"Survived\",estimator=sum)"
   ]
  },
  {
   "cell_type": "markdown",
   "id": "a1993896-2110-4a84-a006-75637b6e394b",
   "metadata": {},
   "source": [
    "### most of the survivals were females"
   ]
  },
  {
   "cell_type": "code",
   "execution_count": 123,
   "id": "7b0fa99f-1364-4585-adb7-c08b79ae908d",
   "metadata": {},
   "outputs": [
    {
     "data": {
      "text/plain": [
       "<Axes: xlabel='Pclass', ylabel='Fare'>"
      ]
     },
     "execution_count": 123,
     "metadata": {},
     "output_type": "execute_result"
    },
    {
     "data": {
      "image/png": "[encoded data removed]",
      "text/plain": [
       "<Figure size 640x480 with 1 Axes>"
      ]
     },
     "metadata": {},
     "output_type": "display_data"
    }
   ],
   "source": [
    "sns.barplot(data=df,x=\"Pclass\",y=\"Fare\",estimator=sum)"
   ]
  },
  {
   "cell_type": "markdown",
   "id": "c3f17017-221d-49b0-b38d-07da5ef56924",
   "metadata": {},
   "source": [
    "### the top classes that give the highest amount of money **1 , 3**"
   ]
  },
  {
   "cell_type": "code",
   "execution_count": 128,
   "id": "4f71f2b5-d5e9-4ff2-b0ac-7715c6db64d7",
   "metadata": {},
   "outputs": [
    {
     "data": {
      "text/plain": [
       "<Axes: xlabel='Embarked', ylabel='count'>"
      ]
     },
     "execution_count": 128,
     "metadata": {},
     "output_type": "execute_result"
    },
    {
     "data": {
      "image/png": "[encoded data removed]",
      "text/plain": [
       "<Figure size 640x480 with 1 Axes>"
      ]
     },
     "metadata": {},
     "output_type": "display_data"
    }
   ],
   "source": [
    "sns.countplot(data=df,x=\"Embarked\")"
   ]
  },
  {
   "cell_type": "markdown",
   "id": "3595041d-d95c-418f-901a-9c81b482b4f3",
   "metadata": {},
   "source": [
    "### `Embarked`| Port where the passenger boarded the highest is southampton and least queenstown"
   ]
  },
  {
   "cell_type": "code",
   "execution_count": 140,
   "id": "c017c78d-f5cf-4d36-845a-1755244bc788",
   "metadata": {},
   "outputs": [
    {
     "data": {
      "text/plain": [
       "([0, 1, 2, 3, 4, 5, 6, 7, 8, 9],\n",
       " [Text(0, 0, 'New York, New York, US'),\n",
       "  Text(1, 0, 'New York City'),\n",
       "  Text(2, 0, 'Chicago, Illinois, US'),\n",
       "  Text(3, 0, 'Winnipeg, Manitoba, Canada'),\n",
       "  Text(4, 0, 'Montreal, Quebec, Canada'),\n",
       "  Text(5, 0, 'Philadelphia, Pennsylvania, US'),\n",
       "  Text(6, 0, 'Jacksonville, Florida, US'),\n",
       "  Text(7, 0, 'Ottawa, Ontario, Canada'),\n",
       "  Text(8, 0, 'Detroit, Michigan, US'),\n",
       "  Text(9, 0, 'Brooklyn, New York, US')])"
      ]
     },
     "execution_count": 140,
     "metadata": {},
     "output_type": "execute_result"
    },
    {
     "data": {
      "image/png": "[encoded data removed]",
      "text/plain": [
       "<Figure size 640x480 with 1 Axes>"
      ]
     },
     "metadata": {},
     "output_type": "display_data"
    }
   ],
   "source": [
    "top_dest = df[\"Destination\"].value_counts().nlargest(10).index\n",
    "filtered_df = df[df[\"Destination\"].isin(top_dest)]\n",
    "sns.countplot(data=filtered_df,x=\"Destination\")\n",
    "plt.xticks(rotation=45,ha=\"right\")"
   ]
  },
  {
   "cell_type": "markdown",
   "id": "984aca7c-05e6-4d01-bb05-90c18107005e",
   "metadata": {},
   "source": [
    "### New york city is the highest destination"
   ]
  },
  {
   "cell_type": "code",
   "execution_count": 143,
   "id": "13d8d6f3-7538-43d3-acea-0a3e894f29e5",
   "metadata": {},
   "outputs": [
    {
     "data": {
      "text/plain": [
       "([0, 1, 2, 3, 4, 5, 6, 7, 8, 9],\n",
       " [Text(0, 0, 'New York, New York, US'),\n",
       "  Text(1, 0, 'Kisa, Östergötland, Sweden'),\n",
       "  Text(2, 0, 'London, England, UK'),\n",
       "  Text(3, 0, 'Unknown, Bulgaria'),\n",
       "  Text(4, 0, 'Paris, France'),\n",
       "  Text(5, 0, 'Hardîne, Lebanon'),\n",
       "  Text(6, 0, 'Hong Kong, China'),\n",
       "  Text(7, 0, 'London, England'),\n",
       "  Text(8, 0, 'Montreal, Quebec, Canada'),\n",
       "  Text(9, 0, 'Peterborough, Cambridgeshire, England')])"
      ]
     },
     "execution_count": 143,
     "metadata": {},
     "output_type": "execute_result"
    },
    {
     "data": {
      "image/png": "[encoded data removed]",
      "text/plain": [
       "<Figure size 640x480 with 1 Axes>"
      ]
     },
     "metadata": {},
     "output_type": "display_data"
    }
   ],
   "source": [
    "top_HT = df[\"Hometown\"].value_counts().nlargest(10).index\n",
    "filtered_df = df[df[\"Hometown\"].isin(top_HT)]\n",
    "sns.countplot(data=filtered_df,x=\"Hometown\")\n",
    "plt.xticks(rotation=45,ha=\"right\")"
   ]
  },
  {
   "cell_type": "markdown",
   "id": "99049f35-b936-450b-9d13-c767af3a329b",
   "metadata": {},
   "source": [
    "### The highest hometown is the **New york,New york,US** "
   ]
  },
  {
   "cell_type": "code",
   "execution_count": 146,
   "id": "55ce2863-7ce0-4f3d-ac62-6b324ba2b9b8",
   "metadata": {},
   "outputs": [
    {
     "data": {
      "text/plain": [
       "([0, 1, 2, 3, 4, 5, 6, 7, 8, 9, 10, 11, 12, 13, 14, 15, 16, 17, 18, 19, 20],\n",
       " [Text(0, 0, 'C'),\n",
       "  Text(1, 0, '4'),\n",
       "  Text(2, 0, '14'),\n",
       "  Text(3, 0, 'D'),\n",
       "  Text(4, 0, '3'),\n",
       "  Text(5, 0, '15'),\n",
       "  Text(6, 0, ''),\n",
       "  Text(7, 0, '13'),\n",
       "  Text(8, 0, '8'),\n",
       "  Text(9, 0, '7'),\n",
       "  Text(10, 0, '6'),\n",
       "  Text(11, 0, '16'),\n",
       "  Text(12, 0, '12'),\n",
       "  Text(13, 0, '10'),\n",
       "  Text(14, 0, '11'),\n",
       "  Text(15, 0, 'B'),\n",
       "  Text(16, 0, '5'),\n",
       "  Text(17, 0, 'A'),\n",
       "  Text(18, 0, '9'),\n",
       "  Text(19, 0, '2'),\n",
       "  Text(20, 0, '1')])"
      ]
     },
     "execution_count": 146,
     "metadata": {},
     "output_type": "execute_result"
    },
    {
     "data": {
      "image/png": "[encoded data removed]",
      "text/plain": [
       "<Figure size 640x480 with 1 Axes>"
      ]
     },
     "metadata": {},
     "output_type": "display_data"
    }
   ],
   "source": [
    "sns.countplot(data=df,x=\"Lifeboat\")\n",
    "plt.xticks(rotation=45,ha=\"right\")"
   ]
  },
  {
   "cell_type": "markdown",
   "id": "c7297b71-d5b0-4b52-b340-6e760f226906",
   "metadata": {},
   "source": [
    "### most used boat is ** C boat --it is used by class 3** it tells that maybe the most of the survives from that class "
   ]
  },
  {
   "cell_type": "markdown",
   "id": "c5604943-1c5e-49f5-b014-9856b832eb30",
   "metadata": {},
   "source": [
    "# Adding Features"
   ]
  },
  {
   "cell_type": "markdown",
   "id": "5d03d733-9ca5-4e91-a84b-74ac386ddc0e",
   "metadata": {},
   "source": [
    "## total survives and death"
   ]
  },
  {
   "cell_type": "code",
   "execution_count": 53,
   "id": "3b6f0db8-7b2f-4466-9624-0f4edf0bcad2",
   "metadata": {},
   "outputs": [
    {
     "data": {
      "text/html": [
       "<div>\n",
       "<style scoped>\n",
       "    .dataframe tbody tr th:only-of-type {\n",
       "        vertical-align: middle;\n",
       "    }\n",
       "\n",
       "    .dataframe tbody tr th {\n",
       "        vertical-align: top;\n",
       "    }\n",
       "\n",
       "    .dataframe thead tr th {\n",
       "        text-align: left;\n",
       "    }\n",
       "\n",
       "    .dataframe thead tr:last-of-type th {\n",
       "        text-align: right;\n",
       "    }\n",
       "</style>\n",
       "<table border=\"1\" class=\"dataframe\">\n",
       "  <thead>\n",
       "    <tr>\n",
       "      <th></th>\n",
       "      <th>count</th>\n",
       "    </tr>\n",
       "    <tr>\n",
       "      <th></th>\n",
       "      <th>Survived</th>\n",
       "    </tr>\n",
       "    <tr>\n",
       "      <th>SDLabel</th>\n",
       "      <th></th>\n",
       "    </tr>\n",
       "  </thead>\n",
       "  <tbody>\n",
       "    <tr>\n",
       "      <th>Dead</th>\n",
       "      <td>549</td>\n",
       "    </tr>\n",
       "    <tr>\n",
       "      <th>Survived</th>\n",
       "      <td>342</td>\n",
       "    </tr>\n",
       "  </tbody>\n",
       "</table>\n",
       "</div>"
      ],
      "text/plain": [
       "            count\n",
       "         Survived\n",
       "SDLabel          \n",
       "Dead          549\n",
       "Survived      342"
      ]
     },
     "execution_count": 53,
     "metadata": {},
     "output_type": "execute_result"
    }
   ],
   "source": [
    "df['SDLabel'] = df['Survived'].map({0: 'Dead', 1: 'Survived'}) #total survives and deathes\n",
    "total_S_D=df.pivot_table(index=\"SDLabel\",values=\"Survived\",aggfunc=[\"count\"])\n",
    "total_S_D"
   ]
  },
  {
   "cell_type": "markdown",
   "id": "079e600d-7eb4-4825-bbcf-71fb39419bc9",
   "metadata": {},
   "source": [
    "## ticket price per class (Avreage)"
   ]
  },
  {
   "cell_type": "code",
   "execution_count": 55,
   "id": "02bc15e3-4777-4448-ad9d-e126af49bf21",
   "metadata": {},
   "outputs": [
    {
     "data": {
      "text/html": [
       "<div>\n",
       "<style scoped>\n",
       "    .dataframe tbody tr th:only-of-type {\n",
       "        vertical-align: middle;\n",
       "    }\n",
       "\n",
       "    .dataframe tbody tr th {\n",
       "        vertical-align: top;\n",
       "    }\n",
       "\n",
       "    .dataframe thead tr th {\n",
       "        text-align: left;\n",
       "    }\n",
       "\n",
       "    .dataframe thead tr:last-of-type th {\n",
       "        text-align: right;\n",
       "    }\n",
       "</style>\n",
       "<table border=\"1\" class=\"dataframe\">\n",
       "  <thead>\n",
       "    <tr>\n",
       "      <th></th>\n",
       "      <th>mean</th>\n",
       "    </tr>\n",
       "    <tr>\n",
       "      <th></th>\n",
       "      <th>Fare</th>\n",
       "    </tr>\n",
       "    <tr>\n",
       "      <th>Pclass</th>\n",
       "      <th></th>\n",
       "    </tr>\n",
       "  </thead>\n",
       "  <tbody>\n",
       "    <tr>\n",
       "      <th>1</th>\n",
       "      <td>50.814403</td>\n",
       "    </tr>\n",
       "    <tr>\n",
       "      <th>2</th>\n",
       "      <td>20.448444</td>\n",
       "    </tr>\n",
       "    <tr>\n",
       "      <th>3</th>\n",
       "      <td>13.619727</td>\n",
       "    </tr>\n",
       "  </tbody>\n",
       "</table>\n",
       "</div>"
      ],
      "text/plain": [
       "             mean\n",
       "             Fare\n",
       "Pclass           \n",
       "1       50.814403\n",
       "2       20.448444\n",
       "3       13.619727"
      ]
     },
     "execution_count": 55,
     "metadata": {},
     "output_type": "execute_result"
    }
   ],
   "source": [
    "ticketp_class=df.pivot_table(index=\"Pclass\",values=\"Fare\",aggfunc=[\"mean\"])\n",
    "ticketp_class"
   ]
  },
  {
   "cell_type": "markdown",
   "id": "e9cb5382-4218-4454-8319-b1ca713c164c",
   "metadata": {},
   "source": [
    "## family size \n",
    "we create this column and we will drop parch and sibsp it will be one upgraded column"
   ]
  },
  {
   "cell_type": "code",
   "execution_count": 57,
   "id": "5351ccde-a437-437f-99d5-0e90a125080f",
   "metadata": {},
   "outputs": [],
   "source": [
    "df['family_size'] = df['Parch'] + df['SibSp'] + 1 "
   ]
  },
  {
   "cell_type": "code",
   "execution_count": 58,
   "id": "1f98fc07-8f34-48da-8fa0-58cf81453c54",
   "metadata": {},
   "outputs": [
    {
     "data": {
      "text/plain": [
       "0      2\n",
       "1      2\n",
       "2      1\n",
       "3      2\n",
       "4      1\n",
       "      ..\n",
       "886    1\n",
       "887    1\n",
       "888    4\n",
       "889    1\n",
       "890    1\n",
       "Name: family_size, Length: 891, dtype: int64"
      ]
     },
     "execution_count": 58,
     "metadata": {},
     "output_type": "execute_result"
    }
   ],
   "source": [
    "df['family_size']"
   ]
  },
  {
   "cell_type": "code",
   "execution_count": 59,
   "id": "45755237-ce75-4d0c-982b-d7da1c8f543d",
   "metadata": {},
   "outputs": [],
   "source": [
    "df.drop(['Parch', 'SibSp'], axis=1, inplace=True) #cause we created family_size and is_alone it will be more useful so we drop them\n"
   ]
  },
  {
   "cell_type": "markdown",
   "id": "d010ed04-6625-41cd-8542-5d6a3d99538b",
   "metadata": {},
   "source": [
    "## fare by person"
   ]
  },
  {
   "cell_type": "code",
   "execution_count": 61,
   "id": "09a237df-37ea-4efa-953c-d20efa499213",
   "metadata": {},
   "outputs": [],
   "source": [
    "df['fare_per_person'] = df['Fare'] / df['family_size'] \n"
   ]
  },
  {
   "cell_type": "code",
   "execution_count": 62,
   "id": "6596c909-f20b-4f04-b731-c58558d14f14",
   "metadata": {},
   "outputs": [
    {
     "data": {
      "text/plain": [
       "0       3.6250\n",
       "1      32.8172\n",
       "2       7.9250\n",
       "3      26.5500\n",
       "4       8.0500\n",
       "        ...   \n",
       "886    13.0000\n",
       "887    30.0000\n",
       "888     5.8625\n",
       "889    30.0000\n",
       "890     7.7500\n",
       "Name: fare_per_person, Length: 891, dtype: float64"
      ]
     },
     "execution_count": 62,
     "metadata": {},
     "output_type": "execute_result"
    }
   ],
   "source": [
    "df['fare_per_person']"
   ]
  },
  {
   "cell_type": "code",
   "execution_count": 63,
   "id": "f452cae6-118d-494b-a283-1b980e35363e",
   "metadata": {
    "scrolled": true
   },
   "outputs": [
    {
     "name": "stdout",
     "output_type": "stream",
     "text": [
      "<class 'pandas.core.frame.DataFrame'>\n",
      "RangeIndex: 891 entries, 0 to 890\n",
      "Data columns (total 17 columns):\n",
      " #   Column           Non-Null Count  Dtype  \n",
      "---  ------           --------------  -----  \n",
      " 0   PassengerId      891 non-null    int64  \n",
      " 1   Survived         891 non-null    int32  \n",
      " 2   Pclass           891 non-null    int64  \n",
      " 3   Name             891 non-null    object \n",
      " 4   Sex              891 non-null    object \n",
      " 5   Age              891 non-null    int32  \n",
      " 6   Ticket           891 non-null    object \n",
      " 7   Fare             891 non-null    float64\n",
      " 8   Embarked         891 non-null    object \n",
      " 9   Hometown         891 non-null    object \n",
      " 10  Boarded          891 non-null    object \n",
      " 11  Destination      891 non-null    object \n",
      " 12  Lifeboat         891 non-null    object \n",
      " 13  Deck             891 non-null    object \n",
      " 14  SDLabel          891 non-null    object \n",
      " 15  family_size      891 non-null    int64  \n",
      " 16  fare_per_person  891 non-null    float64\n",
      "dtypes: float64(2), int32(2), int64(3), object(10)\n",
      "memory usage: 111.5+ KB\n"
     ]
    }
   ],
   "source": [
    "df.info()"
   ]
  },
  {
   "cell_type": "markdown",
   "id": "8e2e03ff-d160-451d-b153-d233ba825c3b",
   "metadata": {},
   "source": [
    "# Save the Data"
   ]
  },
  {
   "cell_type": "code",
   "execution_count": 154,
   "id": "ef55c8f8-6782-4a75-8d57-b05796b1d7aa",
   "metadata": {},
   "outputs": [],
   "source": [
    "with pd.ExcelWriter(\"cleaned_Titanic.xlsx\") as writer:\n",
    "    df.to_excel(writer,sheet_name=\"Main\",index=False)\n",
    "    total_S_D.to_excel(writer,sheet_name=\"total_S_D\",index=True)\n",
    "    ticketp_class.to_excel(writer,sheet_name=\"ticketp_class\",index=True)"
   ]
  },
  {
   "cell_type": "code",
   "execution_count": null,
   "id": "4a199218-e341-4944-b635-83d58ecd2fa2",
   "metadata": {},
   "outputs": [],
   "source": []
  }
 ],
 "metadata": {
  "kernelspec": {
   "display_name": "Python [conda env:base] *",
   "language": "python",
   "name": "conda-base-py"
  },
  "language_info": {
   "codemirror_mode": {
    "name": "ipython",
    "version": 3
   },
   "file_extension": ".py",
   "mimetype": "text/x-python",
   "name": "python",
   "nbconvert_exporter": "python",
   "pygments_lexer": "ipython3",
   "version": "3.12.7"
  }
 },
 "nbformat": 4,
 "nbformat_minor": 5
}
